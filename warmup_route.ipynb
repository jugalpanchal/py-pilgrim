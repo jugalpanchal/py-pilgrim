{
  "nbformat": 4,
  "nbformat_minor": 0,
  "metadata": {
    "colab": {
      "name": "warmup_route.ipynb",
      "provenance": [],
      "authorship_tag": "ABX9TyMY85P2qNr9efb/wfLmQJuy",
      "include_colab_link": true
    },
    "kernelspec": {
      "name": "python3",
      "display_name": "Python 3"
    },
    "language_info": {
      "name": "python"
    }
  },
  "cells": [
    {
      "cell_type": "markdown",
      "metadata": {
        "id": "view-in-github",
        "colab_type": "text"
      },
      "source": [
        "<a href=\"https://colab.research.google.com/github/jugalpanchal/py-pilgrim/blob/main/warmup_route.ipynb\" target=\"_parent\"><img src=\"https://colab.research.google.com/assets/colab-badge.svg\" alt=\"Open In Colab\"/></a>"
      ]
    },
    {
      "cell_type": "markdown",
      "metadata": {
        "id": "Q3rluoH1K9_-"
      },
      "source": [
        "Guidelines"
      ]
    },
    {
      "cell_type": "code",
      "metadata": {
        "id": "2nSYw4dQK-Ki"
      },
      "source": [
        "# Indentation: 4 or 2 spaces recommended in PEP 8, don't use tabs.\n",
        "# Code block: Same indent level represents the same block."
      ],
      "execution_count": 1,
      "outputs": []
    },
    {
      "cell_type": "markdown",
      "metadata": {
        "id": "I7KKGCR6Y31j"
      },
      "source": [
        "Multiline"
      ]
    },
    {
      "cell_type": "code",
      "metadata": {
        "colab": {
          "base_uri": "https://localhost:8080/",
          "height": 35
        },
        "id": "7kN_6okKWTdj",
        "outputId": "e09427cb-22a7-4cea-9839-787cb63d0491"
      },
      "source": [
        "message = 'This is a line.'\n",
        "message"
      ],
      "execution_count": 2,
      "outputs": [
        {
          "output_type": "execute_result",
          "data": {
            "application/vnd.google.colaboratory.intrinsic+json": {
              "type": "string"
            },
            "text/plain": [
              "'This is a line.'"
            ]
          },
          "metadata": {
            "tags": []
          },
          "execution_count": 2
        }
      ]
    },
    {
      "cell_type": "code",
      "metadata": {
        "colab": {
          "base_uri": "https://localhost:8080/",
          "height": 35
        },
        "id": "r4-J04HYW1QM",
        "outputId": "9e0d1254-4720-4c40-85c4-c7e8c57ad80e"
      },
      "source": [
        "message = 'This is a \\\n",
        "line'\n",
        "message"
      ],
      "execution_count": 3,
      "outputs": [
        {
          "output_type": "execute_result",
          "data": {
            "application/vnd.google.colaboratory.intrinsic+json": {
              "type": "string"
            },
            "text/plain": [
              "'This is a line'"
            ]
          },
          "metadata": {
            "tags": []
          },
          "execution_count": 3
        }
      ]
    },
    {
      "cell_type": "markdown",
      "metadata": {
        "id": "Ie8HH5GRYFjL"
      },
      "source": [
        "Truthy and Falsy"
      ]
    },
    {
      "cell_type": "code",
      "metadata": {
        "colab": {
          "base_uri": "https://localhost:8080/"
        },
        "id": "VMGYeF2YYKDh",
        "outputId": "4bde188d-f369-4385-b380-5d455ef2b7b8"
      },
      "source": [
        "# 0 is considered False and 1 is True\n",
        "tmp_list = []\n",
        "len(tmp_list) # 0\n",
        "len(tmp_list) == False"
      ],
      "execution_count": 4,
      "outputs": [
        {
          "output_type": "execute_result",
          "data": {
            "text/plain": [
              "True"
            ]
          },
          "metadata": {
            "tags": []
          },
          "execution_count": 4
        }
      ]
    },
    {
      "cell_type": "code",
      "metadata": {
        "colab": {
          "base_uri": "https://localhost:8080/"
        },
        "id": "jLkFL5xEZJS0",
        "outputId": "d292d8c6-3436-4dfb-ce8a-9ac173e67469"
      },
      "source": [
        "True == 1 # True\n",
        "True == 0 # False\n",
        "True == -1 # False"
      ],
      "execution_count": 5,
      "outputs": [
        {
          "output_type": "execute_result",
          "data": {
            "text/plain": [
              "False"
            ]
          },
          "metadata": {
            "tags": []
          },
          "execution_count": 5
        }
      ]
    },
    {
      "cell_type": "markdown",
      "metadata": {
        "id": "TmNPyTenZsHe"
      },
      "source": [
        "Format"
      ]
    },
    {
      "cell_type": "code",
      "metadata": {
        "colab": {
          "base_uri": "https://localhost:8080/"
        },
        "id": "2dfrmq5GZt1Q",
        "outputId": "b801e9aa-7c23-4c75-cd15-540f6e94b248"
      },
      "source": [
        "tmp_var = \"a learning path\"\n",
        "\n",
        "#SyntaxError: Missing parentheses in call to 'print'. Did you mean print(\"This is %s\" % tmp_var)?\n",
        "#print \"This is %s\" % tmp_var\n",
        "\n",
        "print(\"This is %s\" % tmp_var) # This is a learning path\n",
        "print(\"This is\", tmp_var)     # This is a learning path\n",
        "\n",
        "print(\"This is %s, This is %s\" % (\"first\", \"second\")) # This is first, This is second\n",
        "\n",
        "print(\"Int value %d\" % 3.14)\n",
        "print(\"Decimal value %f\" % 3.14)"
      ],
      "execution_count": 6,
      "outputs": [
        {
          "output_type": "stream",
          "text": [
            "This is a learning path\n",
            "This is a learning path\n",
            "This is first, This is second\n",
            "Int value 3\n",
            "Decimal value 3.140000\n"
          ],
          "name": "stdout"
        }
      ]
    },
    {
      "cell_type": "markdown",
      "metadata": {
        "id": "oMq644Q8bq2R"
      },
      "source": [
        "Associate and Commutative"
      ]
    },
    {
      "cell_type": "code",
      "metadata": {
        "colab": {
          "base_uri": "https://localhost:8080/"
        },
        "id": "3hAgqeTbbtSv",
        "outputId": "82e88042-7532-465b-a498-c1cf9fae7984"
      },
      "source": [
        "print(10 * 100 * 1000)\n",
        "print((10 * 100) * 1000)\n",
        "print(10 * (100 * 1000))\n",
        "\n",
        "print(\"\")\n",
        "\n",
        "print(10 - 100 - 1000)\n",
        "print((10 - 100) - 1000)\n",
        "print(10 - (100 - 1000))"
      ],
      "execution_count": 7,
      "outputs": [
        {
          "output_type": "stream",
          "text": [
            "1000000\n",
            "1000000\n",
            "1000000\n",
            "\n",
            "-1090\n",
            "-1090\n",
            "910\n"
          ],
          "name": "stdout"
        }
      ]
    },
    {
      "cell_type": "markdown",
      "metadata": {
        "id": "t6lu3RR2c37W"
      },
      "source": [
        "Tuples, Lists, Sets, Dictionary"
      ]
    },
    {
      "cell_type": "code",
      "metadata": {
        "colab": {
          "base_uri": "https://localhost:8080/"
        },
        "id": "6J7M6Fqac53e",
        "outputId": "c74f39ca-f482-4231-ef52-033b58284b32"
      },
      "source": [
        "# Tuples is like the List but we cannot change its value. It's immutable.\n",
        "tuple1 = ('jugal', 1)\n",
        "print(tuple1)\n",
        "print(tuple1[0])\n",
        "print(tuple1[1])\n",
        "\n",
        "print(\"\")\n",
        "\n",
        "tuple2 = ('jugal', 1, 'panchal') # we can have as much items we want.\n",
        "print(tuple2)\n",
        "print(tuple2[0])\n",
        "print(tuple2[1])\n",
        "print(tuple2[2])\n",
        "\n",
        "# TypeError: 'tuple' object does not support item assignment\n",
        "#tuple2[1] = 3 "
      ],
      "execution_count": 8,
      "outputs": [
        {
          "output_type": "stream",
          "text": [
            "('jugal', 1)\n",
            "jugal\n",
            "1\n",
            "\n",
            "('jugal', 1, 'panchal')\n",
            "jugal\n",
            "1\n",
            "panchal\n"
          ],
          "name": "stdout"
        }
      ]
    },
    {
      "cell_type": "code",
      "metadata": {
        "id": "jR3Dk5Y9fa5j",
        "colab": {
          "base_uri": "https://localhost:8080/"
        },
        "outputId": "c6243009-d371-4636-83df-5b919292c7db"
      },
      "source": [
        "# Lists is mutable, sequential and contains items of any type. \n",
        "list1 = [1, 'jugal', '48188']\n",
        "print(list1)\n",
        "\n",
        "list1 = list1 + ['Cocklate', 'Cake']\n",
        "print(list1)"
      ],
      "execution_count": 9,
      "outputs": [
        {
          "output_type": "stream",
          "text": [
            "[1, 'jugal', '48188']\n",
            "[1, 'jugal', '48188', 'Cocklate', 'Cake']\n"
          ],
          "name": "stdout"
        }
      ]
    },
    {
      "cell_type": "code",
      "metadata": {
        "id": "J5pHSIZWoIM7",
        "colab": {
          "base_uri": "https://localhost:8080/"
        },
        "outputId": "0c538555-9035-4c3c-fa21-87ed1f5f1c0d"
      },
      "source": [
        "# Sets: It cannot have duplicate items.\n",
        "set1 = {2, 5, 6, 6, 8, 9, 5, 8}\n",
        "set1"
      ],
      "execution_count": 10,
      "outputs": [
        {
          "output_type": "execute_result",
          "data": {
            "text/plain": [
              "{2, 5, 6, 8, 9}"
            ]
          },
          "metadata": {
            "tags": []
          },
          "execution_count": 10
        }
      ]
    },
    {
      "cell_type": "code",
      "metadata": {
        "id": "ccUb5kG-ljzH",
        "colab": {
          "base_uri": "https://localhost:8080/"
        },
        "outputId": "f111598c-5e17-490b-ee6a-d4fac0b48b01"
      },
      "source": [
        "#Dictionary: the key must be unique otherwise it would replace the value.\n",
        "\n",
        "dict1 = {'key1': 'value1', 'key2': 'value2'}\n",
        "print(dict1['key2'])"
      ],
      "execution_count": 11,
      "outputs": [
        {
          "output_type": "stream",
          "text": [
            "value2\n"
          ],
          "name": "stdout"
        }
      ]
    },
    {
      "cell_type": "code",
      "metadata": {
        "id": "DETRI0LbiQKZ",
        "colab": {
          "base_uri": "https://localhost:8080/"
        },
        "outputId": "0f89eef9-fcb2-4c31-88a9-ba361ed14f58"
      },
      "source": [
        "# Immutable: int, float, long, complex, str, tuple, Boolean, array\n",
        "# Mutable: byte array, list, set, dict\n",
        "\n",
        "# Let's confirm\n",
        "\n",
        "number1 = 5\n",
        "print(id(number1))\n",
        "print(id(number1))\n",
        "\n",
        "number1 = number1 + 3 # creating a new number and assigning to the variable\n",
        "print(id(number1))\n",
        "\n",
        "print(\"\")\n",
        "\n",
        "list1 = [3, 6]\n",
        "print(id(list1))\n",
        "list1 = list1 + [4, 7]\n",
        "print(id(list1)) # because we have created new list and assiging to the variable.\n",
        "\n",
        "print(\"\")\n",
        "\n",
        "list1.append(3)\n",
        "print(id(list1)) # It is not changing now."
      ],
      "execution_count": 12,
      "outputs": [
        {
          "output_type": "stream",
          "text": [
            "94309468793472\n",
            "94309468793472\n",
            "94309468793568\n",
            "\n",
            "140127490687136\n",
            "140127490687216\n",
            "\n",
            "140127490687216\n"
          ],
          "name": "stdout"
        }
      ]
    },
    {
      "cell_type": "markdown",
      "metadata": {
        "id": "v2l7pSF8MIvg"
      },
      "source": [
        "Map, Reduce, Filter"
      ]
    },
    {
      "cell_type": "code",
      "metadata": {
        "id": "WCTIO8TUMMrC",
        "outputId": "67ae95a8-3d52-4e2f-e3eb-2ac4fea07abc",
        "colab": {
          "base_uri": "https://localhost:8080/"
        }
      },
      "source": [
        "def add_one(this_item):\n",
        "  return this_item + 1\n",
        "\n",
        "list1 = [1, 2, 3, 4, 5]\n",
        "list2 = map(add_one, list1)\n",
        "\n",
        "print(list1)\n",
        "\n",
        "print(list2)\n",
        "#convert the map into a list, for readability:\n",
        "print(list(list2))\n",
        "\n",
        "print(\"\")\n",
        "\n",
        "list3 = map(lambda x: x + 1, list1)\n",
        "print(list(list3))\n",
        "\n",
        "list4 = map(lambda x: x if x % 2 == 0 else None, list1)\n",
        "print(list(list4))"
      ],
      "execution_count": 13,
      "outputs": [
        {
          "output_type": "stream",
          "text": [
            "[1, 2, 3, 4, 5]\n",
            "<map object at 0x7f71f94c9590>\n",
            "[2, 3, 4, 5, 6]\n",
            "\n",
            "[2, 3, 4, 5, 6]\n",
            "[None, 2, None, 4, None]\n"
          ],
          "name": "stdout"
        }
      ]
    },
    {
      "cell_type": "code",
      "metadata": {
        "id": "GNcKEnWmN33G",
        "outputId": "43c64c0f-67e2-43ff-eb4d-45387dde643e",
        "colab": {
          "base_uri": "https://localhost:8080/"
        }
      },
      "source": [
        "def len_cal(this_item):\n",
        "  return len(this_item)\n",
        "\n",
        "list1 = map(len_cal, ('apple', 'banana', 'cherry'))\n",
        "\n",
        "print(list1)\n",
        "\n",
        "#convert the map into a list, for readability:\n",
        "print(list(list1))"
      ],
      "execution_count": 14,
      "outputs": [
        {
          "output_type": "stream",
          "text": [
            "<map object at 0x7f71f94c9c10>\n",
            "[5, 6, 6]\n"
          ],
          "name": "stdout"
        }
      ]
    },
    {
      "cell_type": "code",
      "metadata": {
        "id": "xI4KqExcOrK5",
        "outputId": "81e7ee0a-4f09-4674-bc24-0140d8757f1c",
        "colab": {
          "base_uri": "https://localhost:8080/"
        }
      },
      "source": [
        "def is_even(this_item):\n",
        "  return this_item % 2 == 0\n",
        "\n",
        "list1 = [1, 2, 3, 4, 5]\n",
        "list2 = filter(is_even, list1)\n",
        "\n",
        "print(list(list2))"
      ],
      "execution_count": 15,
      "outputs": [
        {
          "output_type": "stream",
          "text": [
            "[2, 4]\n"
          ],
          "name": "stdout"
        }
      ]
    },
    {
      "cell_type": "code",
      "metadata": {
        "id": "9KyBRvUQPGsR",
        "outputId": "dc91618d-b371-46ab-8af6-525c09108f03",
        "colab": {
          "base_uri": "https://localhost:8080/"
        }
      },
      "source": [
        "import functools as f\n",
        "\n",
        "def add_items(first, second):\n",
        "  return first + second\n",
        "\n",
        "list1 = [1, 2, 3, 4, 5]\n",
        "list2 = f.reduce(add_items, list1)\n",
        "\n",
        "print(list2)"
      ],
      "execution_count": 16,
      "outputs": [
        {
          "output_type": "stream",
          "text": [
            "15\n"
          ],
          "name": "stdout"
        }
      ]
    }
  ]
}