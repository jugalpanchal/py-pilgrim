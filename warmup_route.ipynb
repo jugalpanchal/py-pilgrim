{
  "nbformat": 4,
  "nbformat_minor": 0,
  "metadata": {
    "colab": {
      "name": "warmup_route.ipynb",
      "provenance": [],
      "authorship_tag": "ABX9TyODLXYaQrZYDUKIf0qJkqp+",
      "include_colab_link": true
    },
    "kernelspec": {
      "name": "python3",
      "display_name": "Python 3"
    },
    "language_info": {
      "name": "python"
    }
  },
  "cells": [
    {
      "cell_type": "markdown",
      "metadata": {
        "id": "view-in-github",
        "colab_type": "text"
      },
      "source": [
        "<a href=\"https://colab.research.google.com/github/jugalpanchal/py-pilgrim/blob/main/warmup_route.ipynb\" target=\"_parent\"><img src=\"https://colab.research.google.com/assets/colab-badge.svg\" alt=\"Open In Colab\"/></a>"
      ]
    },
    {
      "cell_type": "markdown",
      "metadata": {
        "id": "I7KKGCR6Y31j"
      },
      "source": [
        "Multiline"
      ]
    },
    {
      "cell_type": "code",
      "metadata": {
        "colab": {
          "base_uri": "https://localhost:8080/",
          "height": 35
        },
        "id": "7kN_6okKWTdj",
        "outputId": "6c7d3d41-e93d-4d87-ae66-0a305c391a6b"
      },
      "source": [
        "message = 'This is a line.'\n",
        "message"
      ],
      "execution_count": 7,
      "outputs": [
        {
          "output_type": "execute_result",
          "data": {
            "application/vnd.google.colaboratory.intrinsic+json": {
              "type": "string"
            },
            "text/plain": [
              "'This is a line.'"
            ]
          },
          "metadata": {
            "tags": []
          },
          "execution_count": 7
        }
      ]
    },
    {
      "cell_type": "code",
      "metadata": {
        "colab": {
          "base_uri": "https://localhost:8080/",
          "height": 35
        },
        "id": "r4-J04HYW1QM",
        "outputId": "7c28e6c1-2d14-49f0-89d5-7f1d93cd5b10"
      },
      "source": [
        "message = 'This is a \\\n",
        "line'\n",
        "message"
      ],
      "execution_count": 8,
      "outputs": [
        {
          "output_type": "execute_result",
          "data": {
            "application/vnd.google.colaboratory.intrinsic+json": {
              "type": "string"
            },
            "text/plain": [
              "'This is a line'"
            ]
          },
          "metadata": {
            "tags": []
          },
          "execution_count": 8
        }
      ]
    },
    {
      "cell_type": "markdown",
      "metadata": {
        "id": "Ie8HH5GRYFjL"
      },
      "source": [
        "Truthy and Falsy"
      ]
    },
    {
      "cell_type": "code",
      "metadata": {
        "colab": {
          "base_uri": "https://localhost:8080/"
        },
        "id": "VMGYeF2YYKDh",
        "outputId": "74f6c8cc-8b4c-4141-8207-0347f642ec99"
      },
      "source": [
        "# 0 is considered False and 1 is True\n",
        "tmp_list = []\n",
        "len(tmp_list) # 0\n",
        "len(tmp_list) == False"
      ],
      "execution_count": 15,
      "outputs": [
        {
          "output_type": "execute_result",
          "data": {
            "text/plain": [
              "True"
            ]
          },
          "metadata": {
            "tags": []
          },
          "execution_count": 15
        }
      ]
    },
    {
      "cell_type": "code",
      "metadata": {
        "colab": {
          "base_uri": "https://localhost:8080/"
        },
        "id": "jLkFL5xEZJS0",
        "outputId": "1bd6310f-e7f6-443f-d83e-b67136bc7198"
      },
      "source": [
        "True == 1 # True\n",
        "True == 0 # False\n",
        "True == -1 # False"
      ],
      "execution_count": 16,
      "outputs": [
        {
          "output_type": "execute_result",
          "data": {
            "text/plain": [
              "False"
            ]
          },
          "metadata": {
            "tags": []
          },
          "execution_count": 16
        }
      ]
    },
    {
      "cell_type": "markdown",
      "metadata": {
        "id": "TmNPyTenZsHe"
      },
      "source": [
        "Format"
      ]
    },
    {
      "cell_type": "code",
      "metadata": {
        "colab": {
          "base_uri": "https://localhost:8080/"
        },
        "id": "2dfrmq5GZt1Q",
        "outputId": "12bc5ab7-43d4-4824-cb2a-45a42cb42d98"
      },
      "source": [
        "tmp_var = \"a learning path\"\n",
        "\n",
        "#SyntaxError: Missing parentheses in call to 'print'. Did you mean print(\"This is %s\" % tmp_var)?\n",
        "#print \"This is %s\" % tmp_var\n",
        "\n",
        "print(\"This is %s\" % tmp_var) # This is a learning path\n",
        "print(\"This is\", tmp_var)     # This is a learning path\n",
        "\n",
        "print(\"This is %s, This is %s\" % (\"first\", \"second\")) # This is first, This is second\n",
        "\n",
        "print(\"Int value %d\" % 3.14)\n",
        "print(\"Decimal value %f\" % 3.14)"
      ],
      "execution_count": 26,
      "outputs": [
        {
          "output_type": "stream",
          "text": [
            "This is a learning path\n",
            "This is a learning path\n",
            "This is first, This is second\n",
            "Int value 3\n",
            "Decimal value 3.140000\n"
          ],
          "name": "stdout"
        }
      ]
    },
    {
      "cell_type": "markdown",
      "metadata": {
        "id": "oMq644Q8bq2R"
      },
      "source": [
        "Associate and Commutative"
      ]
    },
    {
      "cell_type": "code",
      "metadata": {
        "colab": {
          "base_uri": "https://localhost:8080/"
        },
        "id": "3hAgqeTbbtSv",
        "outputId": "7de293da-4fb6-40ec-ed10-32a8e56a0427"
      },
      "source": [
        "print(10 * 100 * 1000)\n",
        "print((10 * 100) * 1000)\n",
        "print(10 * (100 * 1000))\n",
        "\n",
        "print(\"\")\n",
        "\n",
        "print(10 - 100 - 1000)\n",
        "print((10 - 100) - 1000)\n",
        "print(10 - (100 - 1000))"
      ],
      "execution_count": 29,
      "outputs": [
        {
          "output_type": "stream",
          "text": [
            "1000000\n",
            "1000000\n",
            "1000000\n",
            "\n",
            "-1090\n",
            "-1090\n",
            "910\n"
          ],
          "name": "stdout"
        }
      ]
    },
    {
      "cell_type": "markdown",
      "metadata": {
        "id": "t6lu3RR2c37W"
      },
      "source": [
        "Tuples"
      ]
    },
    {
      "cell_type": "code",
      "metadata": {
        "colab": {
          "base_uri": "https://localhost:8080/",
          "height": 334
        },
        "id": "6J7M6Fqac53e",
        "outputId": "7a2ef3ad-d348-4b6d-f4f8-b61628eb4044"
      },
      "source": [
        "# Tuples is like the List but we cannot change its value.\n",
        "tuple1 = ('jugal', 1)\n",
        "print(tuple1)\n",
        "print(tuple1[0])\n",
        "print(tuple1[1])\n",
        "\n",
        "print(\"\")\n",
        "\n",
        "tuple2 = ('jugal', 1, 'panchal')\n",
        "print(tuple2)\n",
        "print(tuple2[0])\n",
        "print(tuple2[1])\n",
        "print(tuple2[2])\n",
        "\n",
        "# TypeError: 'tuple' object does not support item assignment\n",
        "#tuple2[1] = 3 "
      ],
      "execution_count": 37,
      "outputs": [
        {
          "output_type": "stream",
          "text": [
            "('jugal', 1)\n",
            "jugal\n",
            "1\n",
            "\n",
            "('jugal', 1, 'panchal')\n",
            "jugal\n",
            "1\n",
            "panchal\n"
          ],
          "name": "stdout"
        },
        {
          "output_type": "error",
          "ename": "TypeError",
          "evalue": "ignored",
          "traceback": [
            "\u001b[0;31m---------------------------------------------------------------------------\u001b[0m",
            "\u001b[0;31mTypeError\u001b[0m                                 Traceback (most recent call last)",
            "\u001b[0;32m<ipython-input-37-e72c3e77b087>\u001b[0m in \u001b[0;36m<module>\u001b[0;34m()\u001b[0m\n\u001b[1;32m     13\u001b[0m \u001b[0mprint\u001b[0m\u001b[0;34m(\u001b[0m\u001b[0mtuple2\u001b[0m\u001b[0;34m[\u001b[0m\u001b[0;36m2\u001b[0m\u001b[0;34m]\u001b[0m\u001b[0;34m)\u001b[0m\u001b[0;34m\u001b[0m\u001b[0;34m\u001b[0m\u001b[0m\n\u001b[1;32m     14\u001b[0m \u001b[0;34m\u001b[0m\u001b[0m\n\u001b[0;32m---> 15\u001b[0;31m \u001b[0mtuple2\u001b[0m\u001b[0;34m[\u001b[0m\u001b[0;36m1\u001b[0m\u001b[0;34m]\u001b[0m \u001b[0;34m=\u001b[0m \u001b[0;36m3\u001b[0m\u001b[0;34m\u001b[0m\u001b[0;34m\u001b[0m\u001b[0m\n\u001b[0m",
            "\u001b[0;31mTypeError\u001b[0m: 'tuple' object does not support item assignment"
          ]
        }
      ]
    }
  ]
}