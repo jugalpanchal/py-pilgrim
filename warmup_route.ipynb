{
  "nbformat": 4,
  "nbformat_minor": 0,
  "metadata": {
    "colab": {
      "name": "warmup_route.ipynb",
      "provenance": [],
      "authorship_tag": "ABX9TyPUdCqvudO8H2a/FM1V7tmc",
      "include_colab_link": true
    },
    "kernelspec": {
      "name": "python3",
      "display_name": "Python 3"
    },
    "language_info": {
      "name": "python"
    }
  },
  "cells": [
    {
      "cell_type": "markdown",
      "metadata": {
        "id": "view-in-github",
        "colab_type": "text"
      },
      "source": [
        "<a href=\"https://colab.research.google.com/github/jugalpanchal/py-pilgrim/blob/main/warmup_route.ipynb\" target=\"_parent\"><img src=\"https://colab.research.google.com/assets/colab-badge.svg\" alt=\"Open In Colab\"/></a>"
      ]
    },
    {
      "cell_type": "markdown",
      "metadata": {
        "id": "Q3rluoH1K9_-"
      },
      "source": [
        "Guidelines"
      ]
    },
    {
      "cell_type": "code",
      "metadata": {
        "id": "2nSYw4dQK-Ki"
      },
      "source": [
        "# REPL: Read, Evaluate, Print and Loop - Notebook(Colab, Jupyter, SageMaker etc) is like REPL.\n",
        "# Indentation: 4 or 2 spaces recommended in PEP 8, don't use tabs.\n",
        "# Code block: Same indent level represents the same block."
      ],
      "execution_count": 1,
      "outputs": []
    },
    {
      "cell_type": "markdown",
      "metadata": {
        "id": "I7KKGCR6Y31j"
      },
      "source": [
        "Multiline"
      ]
    },
    {
      "cell_type": "code",
      "metadata": {
        "colab": {
          "base_uri": "https://localhost:8080/",
          "height": 35
        },
        "id": "7kN_6okKWTdj",
        "outputId": "f93c1414-05f5-41fb-f6cc-ba3d9f03da54"
      },
      "source": [
        "message = 'This is a line.'\n",
        "message"
      ],
      "execution_count": 2,
      "outputs": [
        {
          "output_type": "execute_result",
          "data": {
            "text/plain": [
              "'This is a line.'"
            ],
            "application/vnd.google.colaboratory.intrinsic+json": {
              "type": "string"
            }
          },
          "metadata": {},
          "execution_count": 2
        }
      ]
    },
    {
      "cell_type": "code",
      "metadata": {
        "colab": {
          "base_uri": "https://localhost:8080/",
          "height": 35
        },
        "id": "r4-J04HYW1QM",
        "outputId": "7db28c1b-6de3-4db0-e105-756fdacf2451"
      },
      "source": [
        "message = 'This is a \\\n",
        "line'\n",
        "message"
      ],
      "execution_count": 3,
      "outputs": [
        {
          "output_type": "execute_result",
          "data": {
            "text/plain": [
              "'This is a line'"
            ],
            "application/vnd.google.colaboratory.intrinsic+json": {
              "type": "string"
            }
          },
          "metadata": {},
          "execution_count": 3
        }
      ]
    },
    {
      "cell_type": "markdown",
      "metadata": {
        "id": "Ie8HH5GRYFjL"
      },
      "source": [
        "Truthy and Falsy"
      ]
    },
    {
      "cell_type": "code",
      "metadata": {
        "colab": {
          "base_uri": "https://localhost:8080/"
        },
        "id": "VMGYeF2YYKDh",
        "outputId": "05af3342-1e3c-40dc-8f2a-e5671762c729"
      },
      "source": [
        "# 0 is considered False and 1 is True\n",
        "tmp_list = []\n",
        "len(tmp_list) # 0\n",
        "len(tmp_list) == False"
      ],
      "execution_count": 4,
      "outputs": [
        {
          "output_type": "execute_result",
          "data": {
            "text/plain": [
              "True"
            ]
          },
          "metadata": {},
          "execution_count": 4
        }
      ]
    },
    {
      "cell_type": "code",
      "metadata": {
        "colab": {
          "base_uri": "https://localhost:8080/"
        },
        "id": "jLkFL5xEZJS0",
        "outputId": "0542ab9e-6881-4a88-e4b1-f703b4f5fea6"
      },
      "source": [
        "True == 1 # True\n",
        "True == 0 # False\n",
        "True == -1 # False"
      ],
      "execution_count": 5,
      "outputs": [
        {
          "output_type": "execute_result",
          "data": {
            "text/plain": [
              "False"
            ]
          },
          "metadata": {},
          "execution_count": 5
        }
      ]
    },
    {
      "cell_type": "markdown",
      "metadata": {
        "id": "TmNPyTenZsHe"
      },
      "source": [
        "Format"
      ]
    },
    {
      "cell_type": "code",
      "metadata": {
        "colab": {
          "base_uri": "https://localhost:8080/"
        },
        "id": "2dfrmq5GZt1Q",
        "outputId": "64612c9a-0aba-4864-efb1-e6e0650b2b61"
      },
      "source": [
        "tmp_var = \"a learning path\"\n",
        "\n",
        "#SyntaxError: Missing parentheses in call to 'print'. Did you mean print(\"This is %s\" % tmp_var)?\n",
        "#print \"This is %s\" % tmp_var\n",
        "\n",
        "print(\"This is %s\" % tmp_var) # This is a learning path\n",
        "print(\"This is\", tmp_var)     # This is a learning path\n",
        "\n",
        "print(\"This is %s, This is %s\" % (\"first\", \"second\")) # This is first, This is second\n",
        "\n",
        "print(\"Int value %d\" % 3.14)\n",
        "print(\"Decimal value %f\" % 3.14)"
      ],
      "execution_count": 6,
      "outputs": [
        {
          "output_type": "stream",
          "name": "stdout",
          "text": [
            "This is a learning path\n",
            "This is a learning path\n",
            "This is first, This is second\n",
            "Int value 3\n",
            "Decimal value 3.140000\n"
          ]
        }
      ]
    },
    {
      "cell_type": "markdown",
      "metadata": {
        "id": "oMq644Q8bq2R"
      },
      "source": [
        "Associate and Commutative"
      ]
    },
    {
      "cell_type": "code",
      "metadata": {
        "colab": {
          "base_uri": "https://localhost:8080/"
        },
        "id": "3hAgqeTbbtSv",
        "outputId": "60f9d8bd-6010-4349-95ec-f124c1179caa"
      },
      "source": [
        "print(10 * 100 * 1000)\n",
        "print((10 * 100) * 1000)\n",
        "print(10 * (100 * 1000))\n",
        "\n",
        "print(\"\")\n",
        "\n",
        "print(10 - 100 - 1000)\n",
        "print((10 - 100) - 1000)\n",
        "print(10 - (100 - 1000))"
      ],
      "execution_count": 7,
      "outputs": [
        {
          "output_type": "stream",
          "name": "stdout",
          "text": [
            "1000000\n",
            "1000000\n",
            "1000000\n",
            "\n",
            "-1090\n",
            "-1090\n",
            "910\n"
          ]
        }
      ]
    },
    {
      "cell_type": "markdown",
      "metadata": {
        "id": "t6lu3RR2c37W"
      },
      "source": [
        "Tuples, Lists, Sets, Dictionary"
      ]
    },
    {
      "cell_type": "code",
      "metadata": {
        "colab": {
          "base_uri": "https://localhost:8080/"
        },
        "id": "6J7M6Fqac53e",
        "outputId": "77c1bf23-e4c3-454a-ffbb-a2e4bd80f50f"
      },
      "source": [
        "# Tuples is like the List but we cannot change its value. It's immutable.\n",
        "tuple1 = ('jugal', 1)\n",
        "print(tuple1)\n",
        "print(tuple1[0])\n",
        "print(tuple1[1])\n",
        "\n",
        "print(\"\")\n",
        "\n",
        "tuple2 = ('jugal', 1, 'panchal') # we can have as much items we want.\n",
        "print(tuple2)\n",
        "print(tuple2[0])\n",
        "print(tuple2[1])\n",
        "print(tuple2[2])\n",
        "\n",
        "# TypeError: 'tuple' object does not support item assignment\n",
        "#tuple2[1] = 3 "
      ],
      "execution_count": 8,
      "outputs": [
        {
          "output_type": "stream",
          "name": "stdout",
          "text": [
            "('jugal', 1)\n",
            "jugal\n",
            "1\n",
            "\n",
            "('jugal', 1, 'panchal')\n",
            "jugal\n",
            "1\n",
            "panchal\n"
          ]
        }
      ]
    },
    {
      "cell_type": "code",
      "metadata": {
        "id": "jR3Dk5Y9fa5j",
        "colab": {
          "base_uri": "https://localhost:8080/"
        },
        "outputId": "cc4519ce-531f-4e00-9c68-ca96868ce483"
      },
      "source": [
        "# Lists is mutable, sequential and contains items of any type. \n",
        "list1 = [1, 'jugal', '48188']\n",
        "print(list1)\n",
        "\n",
        "list1 = list1 + ['Cocklate', 'Cake']\n",
        "print(list1)"
      ],
      "execution_count": 9,
      "outputs": [
        {
          "output_type": "stream",
          "name": "stdout",
          "text": [
            "[1, 'jugal', '48188']\n",
            "[1, 'jugal', '48188', 'Cocklate', 'Cake']\n"
          ]
        }
      ]
    },
    {
      "cell_type": "code",
      "metadata": {
        "id": "J5pHSIZWoIM7",
        "colab": {
          "base_uri": "https://localhost:8080/"
        },
        "outputId": "3f715296-f6ef-4584-b191-b640c6999f53"
      },
      "source": [
        "# Sets: It cannot have duplicate items.\n",
        "set1 = {2, 5, 6, 6, 8, 9, 5, 8}\n",
        "set1"
      ],
      "execution_count": 10,
      "outputs": [
        {
          "output_type": "execute_result",
          "data": {
            "text/plain": [
              "{2, 5, 6, 8, 9}"
            ]
          },
          "metadata": {},
          "execution_count": 10
        }
      ]
    },
    {
      "cell_type": "code",
      "metadata": {
        "id": "ccUb5kG-ljzH",
        "colab": {
          "base_uri": "https://localhost:8080/"
        },
        "outputId": "b7d96cd9-4508-411d-cc39-dc9b83826c96"
      },
      "source": [
        "#Dictionary: the key must be unique otherwise it would replace the value.\n",
        "\n",
        "dict1 = {'key1': 'value1', 'key2': 'value2'}\n",
        "print(dict1['key2'])"
      ],
      "execution_count": 11,
      "outputs": [
        {
          "output_type": "stream",
          "name": "stdout",
          "text": [
            "value2\n"
          ]
        }
      ]
    },
    {
      "cell_type": "code",
      "metadata": {
        "id": "DETRI0LbiQKZ",
        "colab": {
          "base_uri": "https://localhost:8080/"
        },
        "outputId": "325e7adc-b94c-4a08-ebc6-ce1e6288aecc"
      },
      "source": [
        "# Immutable: int, float, long, complex, str, tuple, Boolean, array\n",
        "# Mutable: byte array, list, set, dict\n",
        "\n",
        "# Let's confirm\n",
        "\n",
        "number1 = 5\n",
        "print(id(number1))\n",
        "print(id(number1))\n",
        "\n",
        "number1 = number1 + 3 # creating a new number and assigning to the variable\n",
        "print(id(number1))\n",
        "\n",
        "print(\"\")\n",
        "\n",
        "list1 = [3, 6]\n",
        "print(id(list1))\n",
        "list1 = list1 + [4, 7]\n",
        "print(id(list1)) # because we have created new list and assiging to the variable.\n",
        "\n",
        "print(\"\")\n",
        "\n",
        "list1.append(3)\n",
        "print(id(list1)) # It is not changing now."
      ],
      "execution_count": 12,
      "outputs": [
        {
          "output_type": "stream",
          "name": "stdout",
          "text": [
            "11256192\n",
            "11256192\n",
            "11256288\n",
            "\n",
            "139670715519376\n",
            "139670715519776\n",
            "\n",
            "139670715519776\n"
          ]
        }
      ]
    },
    {
      "cell_type": "markdown",
      "metadata": {
        "id": "v2l7pSF8MIvg"
      },
      "source": [
        "Map, Reduce, Filter"
      ]
    },
    {
      "cell_type": "code",
      "metadata": {
        "colab": {
          "base_uri": "https://localhost:8080/"
        },
        "id": "WCTIO8TUMMrC",
        "outputId": "48535d21-dd79-4307-b8a4-dd197b4c7483"
      },
      "source": [
        "def add_one(this_item):\n",
        "  return this_item + 1\n",
        "\n",
        "list1 = [1, 2, 3, 4, 5]\n",
        "list2 = map(add_one, list1)\n",
        "\n",
        "print(list1)\n",
        "\n",
        "print(list2)\n",
        "#convert the map into a list, for readability:\n",
        "print(list(list2))\n",
        "\n",
        "print(\"\")\n",
        "\n",
        "list3 = map(lambda x: x + 1, list1)\n",
        "print(list(list3))\n",
        "\n",
        "list4 = map(lambda x: x if x % 2 == 0 else None, list1)\n",
        "print(list(list4))"
      ],
      "execution_count": 13,
      "outputs": [
        {
          "output_type": "stream",
          "name": "stdout",
          "text": [
            "[1, 2, 3, 4, 5]\n",
            "<map object at 0x7f079f62bc10>\n",
            "[2, 3, 4, 5, 6]\n",
            "\n",
            "[2, 3, 4, 5, 6]\n",
            "[None, 2, None, 4, None]\n"
          ]
        }
      ]
    },
    {
      "cell_type": "code",
      "metadata": {
        "colab": {
          "base_uri": "https://localhost:8080/"
        },
        "id": "GNcKEnWmN33G",
        "outputId": "59939a9b-c403-4bb4-a9c4-31a88aa76f01"
      },
      "source": [
        "def len_cal(this_item):\n",
        "  return len(this_item)\n",
        "\n",
        "list1 = map(len_cal, ('apple', 'banana', 'cherry'))\n",
        "\n",
        "print(list1)\n",
        "\n",
        "#convert the map into a list, for readability:\n",
        "print(list(list1))"
      ],
      "execution_count": 14,
      "outputs": [
        {
          "output_type": "stream",
          "name": "stdout",
          "text": [
            "<map object at 0x7f079f608fd0>\n",
            "[5, 6, 6]\n"
          ]
        }
      ]
    },
    {
      "cell_type": "code",
      "metadata": {
        "colab": {
          "base_uri": "https://localhost:8080/"
        },
        "id": "xI4KqExcOrK5",
        "outputId": "39fdd0ad-c1c8-45f0-e384-928c3144f5af"
      },
      "source": [
        "def is_even(this_item):\n",
        "  return this_item % 2 == 0\n",
        "\n",
        "list1 = [1, 2, 3, 4, 5]\n",
        "list2 = filter(is_even, list1)\n",
        "\n",
        "print(list(list2))"
      ],
      "execution_count": 15,
      "outputs": [
        {
          "output_type": "stream",
          "name": "stdout",
          "text": [
            "[2, 4]\n"
          ]
        }
      ]
    },
    {
      "cell_type": "code",
      "metadata": {
        "colab": {
          "base_uri": "https://localhost:8080/"
        },
        "id": "9KyBRvUQPGsR",
        "outputId": "9b7d28b6-d707-4cf4-c863-fb98a754c3e6"
      },
      "source": [
        "import functools as f\n",
        "\n",
        "def add_items(first, second):\n",
        "  return first + second\n",
        "\n",
        "list1 = [1, 2, 3, 4, 5]\n",
        "list2 = f.reduce(add_items, list1)\n",
        "\n",
        "print(list2)"
      ],
      "execution_count": 16,
      "outputs": [
        {
          "output_type": "stream",
          "name": "stdout",
          "text": [
            "15\n"
          ]
        }
      ]
    },
    {
      "cell_type": "code",
      "source": [
        "def operator_shortcut():\n",
        "\n",
        "    squares = []\n",
        "    for x in range(1, 11):\n",
        "        squares.append(x**2) # it is similar like x=x*2; great it works for ++, --, **...\n",
        "\n",
        "    print('list1', squares)\n",
        "\n",
        "def operator_shortcut_list_comprehensions():\n",
        "    squares = [x**2 for x in range(1, 11)]\n",
        "    print('list2', squares)\n",
        "\n",
        "operator_shortcut()\n",
        "operator_shortcut_list_comprehensions()"
      ],
      "metadata": {
        "id": "PF4cX7mwbMkM",
        "outputId": "af54b6e0-0c59-4899-b6f7-b4b365b78ddc",
        "colab": {
          "base_uri": "https://localhost:8080/"
        }
      },
      "execution_count": 17,
      "outputs": [
        {
          "output_type": "stream",
          "name": "stdout",
          "text": [
            "list1 [1, 4, 9, 16, 25, 36, 49, 64, 81, 100]\n",
            "list2 [1, 4, 9, 16, 25, 36, 49, 64, 81, 100]\n"
          ]
        }
      ]
    },
    {
      "cell_type": "code",
      "source": [],
      "metadata": {
        "id": "BVgSlua2bPNG"
      },
      "execution_count": null,
      "outputs": []
    }
  ]
}