{
  "nbformat": 4,
  "nbformat_minor": 0,
  "metadata": {
    "colab": {
      "name": "warmup_route.ipynb",
      "provenance": [],
      "authorship_tag": "ABX9TyMWJazJLsv5mnnoXeAA1ice",
      "include_colab_link": true
    },
    "kernelspec": {
      "name": "python3",
      "display_name": "Python 3"
    },
    "language_info": {
      "name": "python"
    }
  },
  "cells": [
    {
      "cell_type": "markdown",
      "metadata": {
        "id": "view-in-github",
        "colab_type": "text"
      },
      "source": [
        "<a href=\"https://colab.research.google.com/github/jugalpanchal/py-pilgrim/blob/main/warmup_route.ipynb\" target=\"_parent\"><img src=\"https://colab.research.google.com/assets/colab-badge.svg\" alt=\"Open In Colab\"/></a>"
      ]
    },
    {
      "cell_type": "markdown",
      "metadata": {
        "id": "I7KKGCR6Y31j"
      },
      "source": [
        "Multiline"
      ]
    },
    {
      "cell_type": "code",
      "metadata": {
        "colab": {
          "base_uri": "https://localhost:8080/",
          "height": 35
        },
        "id": "7kN_6okKWTdj",
        "outputId": "1acb8827-c721-458a-cf2e-afdffe18690a"
      },
      "source": [
        "message = 'This is a line.'\n",
        "message"
      ],
      "execution_count": 1,
      "outputs": [
        {
          "output_type": "execute_result",
          "data": {
            "application/vnd.google.colaboratory.intrinsic+json": {
              "type": "string"
            },
            "text/plain": [
              "'This is a line.'"
            ]
          },
          "metadata": {
            "tags": []
          },
          "execution_count": 1
        }
      ]
    },
    {
      "cell_type": "code",
      "metadata": {
        "colab": {
          "base_uri": "https://localhost:8080/",
          "height": 35
        },
        "id": "r4-J04HYW1QM",
        "outputId": "fa5494f2-c7f9-43e2-feca-f9c8a0d41358"
      },
      "source": [
        "message = 'This is a \\\n",
        "line'\n",
        "message"
      ],
      "execution_count": 2,
      "outputs": [
        {
          "output_type": "execute_result",
          "data": {
            "application/vnd.google.colaboratory.intrinsic+json": {
              "type": "string"
            },
            "text/plain": [
              "'This is a line'"
            ]
          },
          "metadata": {
            "tags": []
          },
          "execution_count": 2
        }
      ]
    },
    {
      "cell_type": "markdown",
      "metadata": {
        "id": "Ie8HH5GRYFjL"
      },
      "source": [
        "Truthy and Falsy"
      ]
    },
    {
      "cell_type": "code",
      "metadata": {
        "colab": {
          "base_uri": "https://localhost:8080/"
        },
        "id": "VMGYeF2YYKDh",
        "outputId": "5941dc42-0ab5-47d7-ba16-5c16a98142f1"
      },
      "source": [
        "# 0 is considered False and 1 is True\n",
        "tmp_list = []\n",
        "len(tmp_list) # 0\n",
        "len(tmp_list) == False"
      ],
      "execution_count": 3,
      "outputs": [
        {
          "output_type": "execute_result",
          "data": {
            "text/plain": [
              "True"
            ]
          },
          "metadata": {
            "tags": []
          },
          "execution_count": 3
        }
      ]
    },
    {
      "cell_type": "code",
      "metadata": {
        "colab": {
          "base_uri": "https://localhost:8080/"
        },
        "id": "jLkFL5xEZJS0",
        "outputId": "35552331-d8fc-4a0b-e0bb-b825c65a9e08"
      },
      "source": [
        "True == 1 # True\n",
        "True == 0 # False\n",
        "True == -1 # False"
      ],
      "execution_count": 4,
      "outputs": [
        {
          "output_type": "execute_result",
          "data": {
            "text/plain": [
              "False"
            ]
          },
          "metadata": {
            "tags": []
          },
          "execution_count": 4
        }
      ]
    },
    {
      "cell_type": "markdown",
      "metadata": {
        "id": "TmNPyTenZsHe"
      },
      "source": [
        "Format"
      ]
    },
    {
      "cell_type": "code",
      "metadata": {
        "colab": {
          "base_uri": "https://localhost:8080/"
        },
        "id": "2dfrmq5GZt1Q",
        "outputId": "c79d3daa-fa5a-467c-c5b8-d8b1708a7ff0"
      },
      "source": [
        "tmp_var = \"a learning path\"\n",
        "\n",
        "#SyntaxError: Missing parentheses in call to 'print'. Did you mean print(\"This is %s\" % tmp_var)?\n",
        "#print \"This is %s\" % tmp_var\n",
        "\n",
        "print(\"This is %s\" % tmp_var) # This is a learning path\n",
        "print(\"This is\", tmp_var)     # This is a learning path\n",
        "\n",
        "print(\"This is %s, This is %s\" % (\"first\", \"second\")) # This is first, This is second\n",
        "\n",
        "print(\"Int value %d\" % 3.14)\n",
        "print(\"Decimal value %f\" % 3.14)"
      ],
      "execution_count": 5,
      "outputs": [
        {
          "output_type": "stream",
          "text": [
            "This is a learning path\n",
            "This is a learning path\n",
            "This is first, This is second\n",
            "Int value 3\n",
            "Decimal value 3.140000\n"
          ],
          "name": "stdout"
        }
      ]
    },
    {
      "cell_type": "markdown",
      "metadata": {
        "id": "oMq644Q8bq2R"
      },
      "source": [
        "Associate and Commutative"
      ]
    },
    {
      "cell_type": "code",
      "metadata": {
        "colab": {
          "base_uri": "https://localhost:8080/"
        },
        "id": "3hAgqeTbbtSv",
        "outputId": "7eb3ab07-374a-4cc1-a38d-34cfcdce020e"
      },
      "source": [
        "print(10 * 100 * 1000)\n",
        "print((10 * 100) * 1000)\n",
        "print(10 * (100 * 1000))\n",
        "\n",
        "print(\"\")\n",
        "\n",
        "print(10 - 100 - 1000)\n",
        "print((10 - 100) - 1000)\n",
        "print(10 - (100 - 1000))"
      ],
      "execution_count": 6,
      "outputs": [
        {
          "output_type": "stream",
          "text": [
            "1000000\n",
            "1000000\n",
            "1000000\n",
            "\n",
            "-1090\n",
            "-1090\n",
            "910\n"
          ],
          "name": "stdout"
        }
      ]
    },
    {
      "cell_type": "markdown",
      "metadata": {
        "id": "t6lu3RR2c37W"
      },
      "source": [
        "Tuples, Lists, Sets, Dictionary"
      ]
    },
    {
      "cell_type": "code",
      "metadata": {
        "colab": {
          "base_uri": "https://localhost:8080/"
        },
        "id": "6J7M6Fqac53e",
        "outputId": "3cae9657-458d-477b-9465-9a70800825e0"
      },
      "source": [
        "# Tuples is like the List but we cannot change its value. It's immutable.\n",
        "tuple1 = ('jugal', 1)\n",
        "print(tuple1)\n",
        "print(tuple1[0])\n",
        "print(tuple1[1])\n",
        "\n",
        "print(\"\")\n",
        "\n",
        "tuple2 = ('jugal', 1, 'panchal') # we can have as much items we want.\n",
        "print(tuple2)\n",
        "print(tuple2[0])\n",
        "print(tuple2[1])\n",
        "print(tuple2[2])\n",
        "\n",
        "# TypeError: 'tuple' object does not support item assignment\n",
        "#tuple2[1] = 3 "
      ],
      "execution_count": 7,
      "outputs": [
        {
          "output_type": "stream",
          "text": [
            "('jugal', 1)\n",
            "jugal\n",
            "1\n",
            "\n",
            "('jugal', 1, 'panchal')\n",
            "jugal\n",
            "1\n",
            "panchal\n"
          ],
          "name": "stdout"
        }
      ]
    },
    {
      "cell_type": "code",
      "metadata": {
        "id": "jR3Dk5Y9fa5j",
        "outputId": "cadffab1-b3e4-405d-832e-c7daa425cefc",
        "colab": {
          "base_uri": "https://localhost:8080/"
        }
      },
      "source": [
        "# Lists is mutable, sequential and contains items of any type. \n",
        "list1 = [1, 'jugal', '48188']\n",
        "print(list1)\n",
        "\n",
        "list1 = list1 + ['Cocklate', 'Cake']\n",
        "print(list1)"
      ],
      "execution_count": 8,
      "outputs": [
        {
          "output_type": "stream",
          "text": [
            "[1, 'jugal', '48188']\n",
            "[1, 'jugal', '48188', 'Cocklate', 'Cake']\n"
          ],
          "name": "stdout"
        }
      ]
    },
    {
      "cell_type": "code",
      "metadata": {
        "id": "J5pHSIZWoIM7",
        "outputId": "d5955d2d-92ff-4da7-ae7f-7f420d121976",
        "colab": {
          "base_uri": "https://localhost:8080/"
        }
      },
      "source": [
        "# Sets: It cannot have duplicate items.\n",
        "set1 = {2, 5, 6, 6, 8, 9, 5, 8}\n",
        "set1"
      ],
      "execution_count": 9,
      "outputs": [
        {
          "output_type": "execute_result",
          "data": {
            "text/plain": [
              "{2, 5, 6, 8, 9}"
            ]
          },
          "metadata": {
            "tags": []
          },
          "execution_count": 9
        }
      ]
    },
    {
      "cell_type": "code",
      "metadata": {
        "id": "ccUb5kG-ljzH",
        "outputId": "5567a01b-0e91-47c3-922b-ac2e8c8dff5e",
        "colab": {
          "base_uri": "https://localhost:8080/"
        }
      },
      "source": [
        "#Dictionary: the key must be unique otherwise it would replace the value.\n",
        "\n",
        "dict1 = {'key1': 'value1', 'key2': 'value2'}\n",
        "print(dict1['key2'])"
      ],
      "execution_count": 10,
      "outputs": [
        {
          "output_type": "stream",
          "text": [
            "value2\n"
          ],
          "name": "stdout"
        }
      ]
    },
    {
      "cell_type": "code",
      "metadata": {
        "id": "DETRI0LbiQKZ",
        "outputId": "4110ee2d-37a0-4dc4-ad58-300e4f41787c",
        "colab": {
          "base_uri": "https://localhost:8080/"
        }
      },
      "source": [
        "# Immutable: int, float, long, complex, str, tuple, Boolean, array\n",
        "# Mutable: byte array, list, set, dict\n",
        "\n",
        "# Let's confirm\n",
        "\n",
        "number1 = 5\n",
        "print(id(number1))\n",
        "print(id(number1))\n",
        "\n",
        "number1 = number1 + 3 # creating a new number and assigning to the variable\n",
        "print(id(number1))\n",
        "\n",
        "print(\"\")\n",
        "\n",
        "list1 = [3, 6]\n",
        "print(id(list1))\n",
        "list1 = list1 + [4, 7]\n",
        "print(id(list1)) # because we have created new list and assiging to the variable.\n",
        "\n",
        "print(\"\")\n",
        "\n",
        "list1.append(3)\n",
        "print(id(list1)) # It is not changing now."
      ],
      "execution_count": 11,
      "outputs": [
        {
          "output_type": "stream",
          "text": [
            "94160580061824\n",
            "94160580061824\n",
            "94160580061920\n",
            "\n",
            "139718962456208\n",
            "139718962456448\n",
            "\n",
            "139718962456448\n"
          ],
          "name": "stdout"
        }
      ]
    }
  ]
}