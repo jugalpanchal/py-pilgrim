{
  "nbformat": 4,
  "nbformat_minor": 0,
  "metadata": {
    "colab": {
      "name": "warmup_route.ipynb",
      "provenance": [],
      "authorship_tag": "ABX9TyPHMWH8waU4IiZrW5xFGCbM",
      "include_colab_link": true
    },
    "kernelspec": {
      "name": "python3",
      "display_name": "Python 3"
    },
    "language_info": {
      "name": "python"
    }
  },
  "cells": [
    {
      "cell_type": "markdown",
      "metadata": {
        "id": "view-in-github",
        "colab_type": "text"
      },
      "source": [
        "<a href=\"https://colab.research.google.com/github/jugalpanchal/py-pilgrim/blob/main/warmup_route.ipynb\" target=\"_parent\"><img src=\"https://colab.research.google.com/assets/colab-badge.svg\" alt=\"Open In Colab\"/></a>"
      ]
    },
    {
      "cell_type": "markdown",
      "metadata": {
        "id": "Q3rluoH1K9_-"
      },
      "source": [
        "Guidelines"
      ]
    },
    {
      "cell_type": "code",
      "metadata": {
        "id": "2nSYw4dQK-Ki"
      },
      "source": [
        "# REPL: Read, Evaluate, Print and Loop - Notebook(Colab, Jupyter, SageMaker etc) is like REPL.\n",
        "# Indentation: 4 or 2 spaces recommended in PEP 8, don't use tabs.\n",
        "# Code block: Same indent level represents the same block."
      ],
      "execution_count": 1,
      "outputs": []
    },
    {
      "cell_type": "markdown",
      "metadata": {
        "id": "I7KKGCR6Y31j"
      },
      "source": [
        "Multiline"
      ]
    },
    {
      "cell_type": "code",
      "metadata": {
        "colab": {
          "base_uri": "https://localhost:8080/",
          "height": 35
        },
        "id": "7kN_6okKWTdj",
        "outputId": "3534fab1-f99e-45a4-b4f4-548dc2378a2e"
      },
      "source": [
        "message = 'This is a line.'\n",
        "message"
      ],
      "execution_count": 2,
      "outputs": [
        {
          "output_type": "execute_result",
          "data": {
            "application/vnd.google.colaboratory.intrinsic+json": {
              "type": "string"
            },
            "text/plain": [
              "'This is a line.'"
            ]
          },
          "metadata": {
            "tags": []
          },
          "execution_count": 2
        }
      ]
    },
    {
      "cell_type": "code",
      "metadata": {
        "colab": {
          "base_uri": "https://localhost:8080/",
          "height": 35
        },
        "id": "r4-J04HYW1QM",
        "outputId": "a1ef6f92-b1b6-4f4c-8eb3-c667bc4ec859"
      },
      "source": [
        "message = 'This is a \\\n",
        "line'\n",
        "message"
      ],
      "execution_count": 3,
      "outputs": [
        {
          "output_type": "execute_result",
          "data": {
            "application/vnd.google.colaboratory.intrinsic+json": {
              "type": "string"
            },
            "text/plain": [
              "'This is a line'"
            ]
          },
          "metadata": {
            "tags": []
          },
          "execution_count": 3
        }
      ]
    },
    {
      "cell_type": "markdown",
      "metadata": {
        "id": "Ie8HH5GRYFjL"
      },
      "source": [
        "Truthy and Falsy"
      ]
    },
    {
      "cell_type": "code",
      "metadata": {
        "colab": {
          "base_uri": "https://localhost:8080/"
        },
        "id": "VMGYeF2YYKDh",
        "outputId": "79ff78f9-a6fb-480a-e8de-c4c4ee5eed48"
      },
      "source": [
        "# 0 is considered False and 1 is True\n",
        "tmp_list = []\n",
        "len(tmp_list) # 0\n",
        "len(tmp_list) == False"
      ],
      "execution_count": 4,
      "outputs": [
        {
          "output_type": "execute_result",
          "data": {
            "text/plain": [
              "True"
            ]
          },
          "metadata": {
            "tags": []
          },
          "execution_count": 4
        }
      ]
    },
    {
      "cell_type": "code",
      "metadata": {
        "colab": {
          "base_uri": "https://localhost:8080/"
        },
        "id": "jLkFL5xEZJS0",
        "outputId": "67bce6c1-cd3b-43ee-8eff-468ab590c8d6"
      },
      "source": [
        "True == 1 # True\n",
        "True == 0 # False\n",
        "True == -1 # False"
      ],
      "execution_count": 5,
      "outputs": [
        {
          "output_type": "execute_result",
          "data": {
            "text/plain": [
              "False"
            ]
          },
          "metadata": {
            "tags": []
          },
          "execution_count": 5
        }
      ]
    },
    {
      "cell_type": "markdown",
      "metadata": {
        "id": "TmNPyTenZsHe"
      },
      "source": [
        "Format"
      ]
    },
    {
      "cell_type": "code",
      "metadata": {
        "colab": {
          "base_uri": "https://localhost:8080/"
        },
        "id": "2dfrmq5GZt1Q",
        "outputId": "b52f351b-90e6-49bb-c5a3-6afdc59d053c"
      },
      "source": [
        "tmp_var = \"a learning path\"\n",
        "\n",
        "#SyntaxError: Missing parentheses in call to 'print'. Did you mean print(\"This is %s\" % tmp_var)?\n",
        "#print \"This is %s\" % tmp_var\n",
        "\n",
        "print(\"This is %s\" % tmp_var) # This is a learning path\n",
        "print(\"This is\", tmp_var)     # This is a learning path\n",
        "\n",
        "print(\"This is %s, This is %s\" % (\"first\", \"second\")) # This is first, This is second\n",
        "\n",
        "print(\"Int value %d\" % 3.14)\n",
        "print(\"Decimal value %f\" % 3.14)"
      ],
      "execution_count": 6,
      "outputs": [
        {
          "output_type": "stream",
          "text": [
            "This is a learning path\n",
            "This is a learning path\n",
            "This is first, This is second\n",
            "Int value 3\n",
            "Decimal value 3.140000\n"
          ],
          "name": "stdout"
        }
      ]
    },
    {
      "cell_type": "markdown",
      "metadata": {
        "id": "oMq644Q8bq2R"
      },
      "source": [
        "Associate and Commutative"
      ]
    },
    {
      "cell_type": "code",
      "metadata": {
        "colab": {
          "base_uri": "https://localhost:8080/"
        },
        "id": "3hAgqeTbbtSv",
        "outputId": "6c154a7c-9bfd-42e7-e9fc-67891855d986"
      },
      "source": [
        "print(10 * 100 * 1000)\n",
        "print((10 * 100) * 1000)\n",
        "print(10 * (100 * 1000))\n",
        "\n",
        "print(\"\")\n",
        "\n",
        "print(10 - 100 - 1000)\n",
        "print((10 - 100) - 1000)\n",
        "print(10 - (100 - 1000))"
      ],
      "execution_count": 7,
      "outputs": [
        {
          "output_type": "stream",
          "text": [
            "1000000\n",
            "1000000\n",
            "1000000\n",
            "\n",
            "-1090\n",
            "-1090\n",
            "910\n"
          ],
          "name": "stdout"
        }
      ]
    },
    {
      "cell_type": "markdown",
      "metadata": {
        "id": "t6lu3RR2c37W"
      },
      "source": [
        "Tuples, Lists, Sets, Dictionary"
      ]
    },
    {
      "cell_type": "code",
      "metadata": {
        "colab": {
          "base_uri": "https://localhost:8080/"
        },
        "id": "6J7M6Fqac53e",
        "outputId": "1c6b6e3e-e6b4-4112-9cb6-88f98cb20609"
      },
      "source": [
        "# Tuples is like the List but we cannot change its value. It's immutable.\n",
        "tuple1 = ('jugal', 1)\n",
        "print(tuple1)\n",
        "print(tuple1[0])\n",
        "print(tuple1[1])\n",
        "\n",
        "print(\"\")\n",
        "\n",
        "tuple2 = ('jugal', 1, 'panchal') # we can have as much items we want.\n",
        "print(tuple2)\n",
        "print(tuple2[0])\n",
        "print(tuple2[1])\n",
        "print(tuple2[2])\n",
        "\n",
        "# TypeError: 'tuple' object does not support item assignment\n",
        "#tuple2[1] = 3 "
      ],
      "execution_count": 8,
      "outputs": [
        {
          "output_type": "stream",
          "text": [
            "('jugal', 1)\n",
            "jugal\n",
            "1\n",
            "\n",
            "('jugal', 1, 'panchal')\n",
            "jugal\n",
            "1\n",
            "panchal\n"
          ],
          "name": "stdout"
        }
      ]
    },
    {
      "cell_type": "code",
      "metadata": {
        "id": "jR3Dk5Y9fa5j",
        "colab": {
          "base_uri": "https://localhost:8080/"
        },
        "outputId": "c176b551-5087-4769-8d3c-3782f00918cf"
      },
      "source": [
        "# Lists is mutable, sequential and contains items of any type. \n",
        "list1 = [1, 'jugal', '48188']\n",
        "print(list1)\n",
        "\n",
        "list1 = list1 + ['Cocklate', 'Cake']\n",
        "print(list1)"
      ],
      "execution_count": 9,
      "outputs": [
        {
          "output_type": "stream",
          "text": [
            "[1, 'jugal', '48188']\n",
            "[1, 'jugal', '48188', 'Cocklate', 'Cake']\n"
          ],
          "name": "stdout"
        }
      ]
    },
    {
      "cell_type": "code",
      "metadata": {
        "id": "J5pHSIZWoIM7",
        "colab": {
          "base_uri": "https://localhost:8080/"
        },
        "outputId": "b3fdd69f-84e6-4188-90c8-8e435e100b4a"
      },
      "source": [
        "# Sets: It cannot have duplicate items.\n",
        "set1 = {2, 5, 6, 6, 8, 9, 5, 8}\n",
        "set1"
      ],
      "execution_count": 10,
      "outputs": [
        {
          "output_type": "execute_result",
          "data": {
            "text/plain": [
              "{2, 5, 6, 8, 9}"
            ]
          },
          "metadata": {
            "tags": []
          },
          "execution_count": 10
        }
      ]
    },
    {
      "cell_type": "code",
      "metadata": {
        "id": "ccUb5kG-ljzH",
        "colab": {
          "base_uri": "https://localhost:8080/"
        },
        "outputId": "60a30491-9a69-4a5a-df0f-19ae26d2f1e9"
      },
      "source": [
        "#Dictionary: the key must be unique otherwise it would replace the value.\n",
        "\n",
        "dict1 = {'key1': 'value1', 'key2': 'value2'}\n",
        "print(dict1['key2'])"
      ],
      "execution_count": 11,
      "outputs": [
        {
          "output_type": "stream",
          "text": [
            "value2\n"
          ],
          "name": "stdout"
        }
      ]
    },
    {
      "cell_type": "code",
      "metadata": {
        "id": "DETRI0LbiQKZ",
        "colab": {
          "base_uri": "https://localhost:8080/"
        },
        "outputId": "5af04dd2-3daa-496e-c4ce-74f9dcdc5dfa"
      },
      "source": [
        "# Immutable: int, float, long, complex, str, tuple, Boolean, array\n",
        "# Mutable: byte array, list, set, dict\n",
        "\n",
        "# Let's confirm\n",
        "\n",
        "number1 = 5\n",
        "print(id(number1))\n",
        "print(id(number1))\n",
        "\n",
        "number1 = number1 + 3 # creating a new number and assigning to the variable\n",
        "print(id(number1))\n",
        "\n",
        "print(\"\")\n",
        "\n",
        "list1 = [3, 6]\n",
        "print(id(list1))\n",
        "list1 = list1 + [4, 7]\n",
        "print(id(list1)) # because we have created new list and assiging to the variable.\n",
        "\n",
        "print(\"\")\n",
        "\n",
        "list1.append(3)\n",
        "print(id(list1)) # It is not changing now."
      ],
      "execution_count": 12,
      "outputs": [
        {
          "output_type": "stream",
          "text": [
            "94262734305920\n",
            "94262734305920\n",
            "94262734306016\n",
            "\n",
            "140357032286960\n",
            "140357032287200\n",
            "\n",
            "140357032287200\n"
          ],
          "name": "stdout"
        }
      ]
    },
    {
      "cell_type": "markdown",
      "metadata": {
        "id": "v2l7pSF8MIvg"
      },
      "source": [
        "Map, Reduce, Filter"
      ]
    },
    {
      "cell_type": "code",
      "metadata": {
        "colab": {
          "base_uri": "https://localhost:8080/"
        },
        "id": "WCTIO8TUMMrC",
        "outputId": "bf30fa3a-7c91-40dc-f5d3-57301a68508f"
      },
      "source": [
        "def add_one(this_item):\n",
        "  return this_item + 1\n",
        "\n",
        "list1 = [1, 2, 3, 4, 5]\n",
        "list2 = map(add_one, list1)\n",
        "\n",
        "print(list1)\n",
        "\n",
        "print(list2)\n",
        "#convert the map into a list, for readability:\n",
        "print(list(list2))\n",
        "\n",
        "print(\"\")\n",
        "\n",
        "list3 = map(lambda x: x + 1, list1)\n",
        "print(list(list3))\n",
        "\n",
        "list4 = map(lambda x: x if x % 2 == 0 else None, list1)\n",
        "print(list(list4))"
      ],
      "execution_count": 13,
      "outputs": [
        {
          "output_type": "stream",
          "text": [
            "[1, 2, 3, 4, 5]\n",
            "<map object at 0x7fa76b0b5750>\n",
            "[2, 3, 4, 5, 6]\n",
            "\n",
            "[2, 3, 4, 5, 6]\n",
            "[None, 2, None, 4, None]\n"
          ],
          "name": "stdout"
        }
      ]
    },
    {
      "cell_type": "code",
      "metadata": {
        "colab": {
          "base_uri": "https://localhost:8080/"
        },
        "id": "GNcKEnWmN33G",
        "outputId": "c3348577-f313-4372-9d72-964c15e94ff6"
      },
      "source": [
        "def len_cal(this_item):\n",
        "  return len(this_item)\n",
        "\n",
        "list1 = map(len_cal, ('apple', 'banana', 'cherry'))\n",
        "\n",
        "print(list1)\n",
        "\n",
        "#convert the map into a list, for readability:\n",
        "print(list(list1))"
      ],
      "execution_count": 14,
      "outputs": [
        {
          "output_type": "stream",
          "text": [
            "<map object at 0x7fa76b0b45d0>\n",
            "[5, 6, 6]\n"
          ],
          "name": "stdout"
        }
      ]
    },
    {
      "cell_type": "code",
      "metadata": {
        "colab": {
          "base_uri": "https://localhost:8080/"
        },
        "id": "xI4KqExcOrK5",
        "outputId": "abcc1045-e063-4ab7-9a48-e5675b8cc559"
      },
      "source": [
        "def is_even(this_item):\n",
        "  return this_item % 2 == 0\n",
        "\n",
        "list1 = [1, 2, 3, 4, 5]\n",
        "list2 = filter(is_even, list1)\n",
        "\n",
        "print(list(list2))"
      ],
      "execution_count": 15,
      "outputs": [
        {
          "output_type": "stream",
          "text": [
            "[2, 4]\n"
          ],
          "name": "stdout"
        }
      ]
    },
    {
      "cell_type": "code",
      "metadata": {
        "colab": {
          "base_uri": "https://localhost:8080/"
        },
        "id": "9KyBRvUQPGsR",
        "outputId": "d69ca01c-678c-4663-c96f-61f19366f6ba"
      },
      "source": [
        "import functools as f\n",
        "\n",
        "def add_items(first, second):\n",
        "  return first + second\n",
        "\n",
        "list1 = [1, 2, 3, 4, 5]\n",
        "list2 = f.reduce(add_items, list1)\n",
        "\n",
        "print(list2)"
      ],
      "execution_count": 16,
      "outputs": [
        {
          "output_type": "stream",
          "text": [
            "15\n"
          ],
          "name": "stdout"
        }
      ]
    }
  ]
}