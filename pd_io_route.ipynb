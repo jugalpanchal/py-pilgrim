{
  "nbformat": 4,
  "nbformat_minor": 0,
  "metadata": {
    "colab": {
      "name": "pd_io_route.ipynb",
      "provenance": [],
      "authorship_tag": "ABX9TyPIjHfAlSmDXQA5ahb1Lz5i",
      "include_colab_link": true
    },
    "kernelspec": {
      "name": "python3",
      "display_name": "Python 3"
    },
    "language_info": {
      "name": "python"
    }
  },
  "cells": [
    {
      "cell_type": "markdown",
      "metadata": {
        "id": "view-in-github",
        "colab_type": "text"
      },
      "source": [
        "<a href=\"https://colab.research.google.com/github/jugalpanchal/py-pilgrim/blob/main/pd_io_route.ipynb\" target=\"_parent\"><img src=\"https://colab.research.google.com/assets/colab-badge.svg\" alt=\"Open In Colab\"/></a>"
      ]
    },
    {
      "cell_type": "code",
      "metadata": {
        "id": "YePFLTsoMp5i"
      },
      "source": [
        "import os\n",
        "import numpy as np\n",
        "import pandas as pd\n",
        "from IPython.display import display, HTML"
      ],
      "execution_count": 1,
      "outputs": []
    },
    {
      "cell_type": "code",
      "metadata": {
        "id": "uLhYDSk5IkDG",
        "colab": {
          "base_uri": "https://localhost:8080/",
          "height": 1000
        },
        "outputId": "a45587d4-fbab-44e9-cd38-ebad1d59a6a1"
      },
      "source": [
        "# read a csv file - folder and file name - create a folder in colab and upload the file\n",
        "CSV_FILE_PATH = os.path.join('collection-master', 'artwork_data.csv')\n",
        "\n",
        "# read only 3 rows. it saves to load entire rows in memory\n",
        "df1 = pd.read_csv(CSV_FILE_PATH, nrows=3) # it adds an addition index column.\n",
        "\n",
        "# read only 3 rows and start col: id\n",
        "# make sure first column is integer so it can replace the index column otherwise it would give an error(ValueError: Index id invalid)\n",
        "df2 = pd.read_csv(CSV_FILE_PATH, nrows=3, index_col='id')\n",
        "\n",
        "# read only 3 rows and start col: id\n",
        "df3 = pd.read_csv(CSV_FILE_PATH, nrows=3, index_col='id', usecols=['id', 'artist'])\n",
        "\n",
        "#display(df)\n",
        "display(HTML(df1.to_html())) # it does not cut... the data.\n",
        "display(HTML(df2.to_html()))\n",
        "display(df3)"
      ],
      "execution_count": 2,
      "outputs": [
        {
          "output_type": "display_data",
          "data": {
            "text/html": [
              "<table border=\"1\" class=\"dataframe\">\n",
              "  <thead>\n",
              "    <tr style=\"text-align: right;\">\n",
              "      <th></th>\n",
              "      <th>id</th>\n",
              "      <th>accession_number</th>\n",
              "      <th>artist</th>\n",
              "      <th>artistRole</th>\n",
              "      <th>artistId</th>\n",
              "      <th>title</th>\n",
              "      <th>dateText</th>\n",
              "      <th>medium</th>\n",
              "      <th>creditLine</th>\n",
              "      <th>year</th>\n",
              "      <th>acquisitionYear</th>\n",
              "      <th>dimensions</th>\n",
              "      <th>width</th>\n",
              "      <th>height</th>\n",
              "      <th>depth</th>\n",
              "      <th>units</th>\n",
              "      <th>inscription</th>\n",
              "      <th>thumbnailCopyright</th>\n",
              "      <th>thumbnailUrl</th>\n",
              "      <th>url</th>\n",
              "    </tr>\n",
              "  </thead>\n",
              "  <tbody>\n",
              "    <tr>\n",
              "      <th>0</th>\n",
              "      <td>1035</td>\n",
              "      <td>A00001</td>\n",
              "      <td>Blake, Robert</td>\n",
              "      <td>artist</td>\n",
              "      <td>38</td>\n",
              "      <td>A Figure Bowing before a Seated Old Man with his Arm Outstretched in Benediction. Verso: Indecipherable Sketch</td>\n",
              "      <td>date not known</td>\n",
              "      <td>Watercolour, ink, chalk and graphite on paper. Verso: graphite on paper</td>\n",
              "      <td>Presented by Mrs John Richmond 1922</td>\n",
              "      <td>NaN</td>\n",
              "      <td>1922</td>\n",
              "      <td>support: 394 x 419 mm</td>\n",
              "      <td>394</td>\n",
              "      <td>419</td>\n",
              "      <td>NaN</td>\n",
              "      <td>mm</td>\n",
              "      <td>NaN</td>\n",
              "      <td>NaN</td>\n",
              "      <td>http://www.tate.org.uk/art/images/work/A/A00/A00001_8.jpg</td>\n",
              "      <td>http://www.tate.org.uk/art/artworks/blake-a-figure-bowing-before-a-seated-old-man-with-his-arm-outstretched-in-benediction-a00001</td>\n",
              "    </tr>\n",
              "    <tr>\n",
              "      <th>1</th>\n",
              "      <td>1036</td>\n",
              "      <td>A00002</td>\n",
              "      <td>Blake, Robert</td>\n",
              "      <td>artist</td>\n",
              "      <td>38</td>\n",
              "      <td>Two Drawings of Frightened Figures, Probably for ‘The Approach of Doom’</td>\n",
              "      <td>date not known</td>\n",
              "      <td>Graphite on paper</td>\n",
              "      <td>Presented by Mrs John Richmond 1922</td>\n",
              "      <td>NaN</td>\n",
              "      <td>1922</td>\n",
              "      <td>support: 311 x 213 mm</td>\n",
              "      <td>311</td>\n",
              "      <td>213</td>\n",
              "      <td>NaN</td>\n",
              "      <td>mm</td>\n",
              "      <td>NaN</td>\n",
              "      <td>NaN</td>\n",
              "      <td>http://www.tate.org.uk/art/images/work/A/A00/A00002_8.jpg</td>\n",
              "      <td>http://www.tate.org.uk/art/artworks/blake-two-drawings-of-frightened-figures-probably-for-the-approach-of-doom-a00002</td>\n",
              "    </tr>\n",
              "    <tr>\n",
              "      <th>2</th>\n",
              "      <td>1037</td>\n",
              "      <td>A00003</td>\n",
              "      <td>Blake, Robert</td>\n",
              "      <td>artist</td>\n",
              "      <td>38</td>\n",
              "      <td>The Preaching of Warning. Verso: An Old Man Enthroned Between Two Groups of Figures, by ?William Blake</td>\n",
              "      <td>?c.1785</td>\n",
              "      <td>Graphite on paper. Verso: graphite on paper</td>\n",
              "      <td>Presented by Mrs John Richmond 1922</td>\n",
              "      <td>1785.0</td>\n",
              "      <td>1922</td>\n",
              "      <td>support: 343 x 467 mm</td>\n",
              "      <td>343</td>\n",
              "      <td>467</td>\n",
              "      <td>NaN</td>\n",
              "      <td>mm</td>\n",
              "      <td>NaN</td>\n",
              "      <td>NaN</td>\n",
              "      <td>http://www.tate.org.uk/art/images/work/A/A00/A00003_8.jpg</td>\n",
              "      <td>http://www.tate.org.uk/art/artworks/blake-the-preaching-of-warning-verso-an-old-man-enthroned-between-two-groups-of-figures-by-a00003</td>\n",
              "    </tr>\n",
              "  </tbody>\n",
              "</table>"
            ],
            "text/plain": [
              "<IPython.core.display.HTML object>"
            ]
          },
          "metadata": {
            "tags": []
          }
        },
        {
          "output_type": "display_data",
          "data": {
            "text/html": [
              "<table border=\"1\" class=\"dataframe\">\n",
              "  <thead>\n",
              "    <tr style=\"text-align: right;\">\n",
              "      <th></th>\n",
              "      <th>accession_number</th>\n",
              "      <th>artist</th>\n",
              "      <th>artistRole</th>\n",
              "      <th>artistId</th>\n",
              "      <th>title</th>\n",
              "      <th>dateText</th>\n",
              "      <th>medium</th>\n",
              "      <th>creditLine</th>\n",
              "      <th>year</th>\n",
              "      <th>acquisitionYear</th>\n",
              "      <th>dimensions</th>\n",
              "      <th>width</th>\n",
              "      <th>height</th>\n",
              "      <th>depth</th>\n",
              "      <th>units</th>\n",
              "      <th>inscription</th>\n",
              "      <th>thumbnailCopyright</th>\n",
              "      <th>thumbnailUrl</th>\n",
              "      <th>url</th>\n",
              "    </tr>\n",
              "    <tr>\n",
              "      <th>id</th>\n",
              "      <th></th>\n",
              "      <th></th>\n",
              "      <th></th>\n",
              "      <th></th>\n",
              "      <th></th>\n",
              "      <th></th>\n",
              "      <th></th>\n",
              "      <th></th>\n",
              "      <th></th>\n",
              "      <th></th>\n",
              "      <th></th>\n",
              "      <th></th>\n",
              "      <th></th>\n",
              "      <th></th>\n",
              "      <th></th>\n",
              "      <th></th>\n",
              "      <th></th>\n",
              "      <th></th>\n",
              "      <th></th>\n",
              "    </tr>\n",
              "  </thead>\n",
              "  <tbody>\n",
              "    <tr>\n",
              "      <th>1035</th>\n",
              "      <td>A00001</td>\n",
              "      <td>Blake, Robert</td>\n",
              "      <td>artist</td>\n",
              "      <td>38</td>\n",
              "      <td>A Figure Bowing before a Seated Old Man with his Arm Outstretched in Benediction. Verso: Indecipherable Sketch</td>\n",
              "      <td>date not known</td>\n",
              "      <td>Watercolour, ink, chalk and graphite on paper. Verso: graphite on paper</td>\n",
              "      <td>Presented by Mrs John Richmond 1922</td>\n",
              "      <td>NaN</td>\n",
              "      <td>1922</td>\n",
              "      <td>support: 394 x 419 mm</td>\n",
              "      <td>394</td>\n",
              "      <td>419</td>\n",
              "      <td>NaN</td>\n",
              "      <td>mm</td>\n",
              "      <td>NaN</td>\n",
              "      <td>NaN</td>\n",
              "      <td>http://www.tate.org.uk/art/images/work/A/A00/A00001_8.jpg</td>\n",
              "      <td>http://www.tate.org.uk/art/artworks/blake-a-figure-bowing-before-a-seated-old-man-with-his-arm-outstretched-in-benediction-a00001</td>\n",
              "    </tr>\n",
              "    <tr>\n",
              "      <th>1036</th>\n",
              "      <td>A00002</td>\n",
              "      <td>Blake, Robert</td>\n",
              "      <td>artist</td>\n",
              "      <td>38</td>\n",
              "      <td>Two Drawings of Frightened Figures, Probably for ‘The Approach of Doom’</td>\n",
              "      <td>date not known</td>\n",
              "      <td>Graphite on paper</td>\n",
              "      <td>Presented by Mrs John Richmond 1922</td>\n",
              "      <td>NaN</td>\n",
              "      <td>1922</td>\n",
              "      <td>support: 311 x 213 mm</td>\n",
              "      <td>311</td>\n",
              "      <td>213</td>\n",
              "      <td>NaN</td>\n",
              "      <td>mm</td>\n",
              "      <td>NaN</td>\n",
              "      <td>NaN</td>\n",
              "      <td>http://www.tate.org.uk/art/images/work/A/A00/A00002_8.jpg</td>\n",
              "      <td>http://www.tate.org.uk/art/artworks/blake-two-drawings-of-frightened-figures-probably-for-the-approach-of-doom-a00002</td>\n",
              "    </tr>\n",
              "    <tr>\n",
              "      <th>1037</th>\n",
              "      <td>A00003</td>\n",
              "      <td>Blake, Robert</td>\n",
              "      <td>artist</td>\n",
              "      <td>38</td>\n",
              "      <td>The Preaching of Warning. Verso: An Old Man Enthroned Between Two Groups of Figures, by ?William Blake</td>\n",
              "      <td>?c.1785</td>\n",
              "      <td>Graphite on paper. Verso: graphite on paper</td>\n",
              "      <td>Presented by Mrs John Richmond 1922</td>\n",
              "      <td>1785.0</td>\n",
              "      <td>1922</td>\n",
              "      <td>support: 343 x 467 mm</td>\n",
              "      <td>343</td>\n",
              "      <td>467</td>\n",
              "      <td>NaN</td>\n",
              "      <td>mm</td>\n",
              "      <td>NaN</td>\n",
              "      <td>NaN</td>\n",
              "      <td>http://www.tate.org.uk/art/images/work/A/A00/A00003_8.jpg</td>\n",
              "      <td>http://www.tate.org.uk/art/artworks/blake-the-preaching-of-warning-verso-an-old-man-enthroned-between-two-groups-of-figures-by-a00003</td>\n",
              "    </tr>\n",
              "  </tbody>\n",
              "</table>"
            ],
            "text/plain": [
              "<IPython.core.display.HTML object>"
            ]
          },
          "metadata": {
            "tags": []
          }
        },
        {
          "output_type": "display_data",
          "data": {
            "text/html": [
              "<div>\n",
              "<style scoped>\n",
              "    .dataframe tbody tr th:only-of-type {\n",
              "        vertical-align: middle;\n",
              "    }\n",
              "\n",
              "    .dataframe tbody tr th {\n",
              "        vertical-align: top;\n",
              "    }\n",
              "\n",
              "    .dataframe thead th {\n",
              "        text-align: right;\n",
              "    }\n",
              "</style>\n",
              "<table border=\"1\" class=\"dataframe\">\n",
              "  <thead>\n",
              "    <tr style=\"text-align: right;\">\n",
              "      <th></th>\n",
              "      <th>artist</th>\n",
              "    </tr>\n",
              "    <tr>\n",
              "      <th>id</th>\n",
              "      <th></th>\n",
              "    </tr>\n",
              "  </thead>\n",
              "  <tbody>\n",
              "    <tr>\n",
              "      <th>1035</th>\n",
              "      <td>Blake, Robert</td>\n",
              "    </tr>\n",
              "    <tr>\n",
              "      <th>1036</th>\n",
              "      <td>Blake, Robert</td>\n",
              "    </tr>\n",
              "    <tr>\n",
              "      <th>1037</th>\n",
              "      <td>Blake, Robert</td>\n",
              "    </tr>\n",
              "  </tbody>\n",
              "</table>\n",
              "</div>"
            ],
            "text/plain": [
              "             artist\n",
              "id                 \n",
              "1035  Blake, Robert\n",
              "1036  Blake, Robert\n",
              "1037  Blake, Robert"
            ]
          },
          "metadata": {
            "tags": []
          }
        }
      ]
    },
    {
      "cell_type": "code",
      "metadata": {
        "id": "WGSTRvYeT7zW"
      },
      "source": [
        "COLS_TO_USE = ['id', 'artist', 'title', 'medium', 'year', 'acquisitionYear', 'height', 'width', 'units']\n",
        "# read only 5 rows and start col: id\n",
        "df4 = pd.read_csv(CSV_FILE_PATH, nrows=5, index_col='id', usecols=COLS_TO_USE)\n",
        "#df4 = pd.read_csv(CSV_FILE_PATH, index_col='id')\n",
        "\n",
        "# display(HTML(df4.to_html()))"
      ],
      "execution_count": 3,
      "outputs": []
    },
    {
      "cell_type": "code",
      "metadata": {
        "id": "mSxvDX_LXoGQ",
        "colab": {
          "base_uri": "https://localhost:8080/",
          "height": 235
        },
        "outputId": "d8498edf-95c7-4989-ffb4-f8dce01ec92b"
      },
      "source": [
        "PICKLE_FILE_PATH = os.path.join('collection-master', 'artwork_df.pickle') # pickle or pkl\n",
        "\n",
        "# save the filer or transform dataset into a serialized file(python native format). that is a pickle format.\n",
        "# it can be used to de-serialized into a dataframe again later.\n",
        "df4.to_pickle(PICKLE_FILE_PATH) # default compression type is infer.\n",
        "\n",
        "# read the pickle file\n",
        "df5 = pd.read_pickle(PICKLE_FILE_PATH)\n",
        "display(df5)"
      ],
      "execution_count": 4,
      "outputs": [
        {
          "output_type": "display_data",
          "data": {
            "text/html": [
              "<div>\n",
              "<style scoped>\n",
              "    .dataframe tbody tr th:only-of-type {\n",
              "        vertical-align: middle;\n",
              "    }\n",
              "\n",
              "    .dataframe tbody tr th {\n",
              "        vertical-align: top;\n",
              "    }\n",
              "\n",
              "    .dataframe thead th {\n",
              "        text-align: right;\n",
              "    }\n",
              "</style>\n",
              "<table border=\"1\" class=\"dataframe\">\n",
              "  <thead>\n",
              "    <tr style=\"text-align: right;\">\n",
              "      <th></th>\n",
              "      <th>artist</th>\n",
              "      <th>title</th>\n",
              "      <th>medium</th>\n",
              "      <th>year</th>\n",
              "      <th>acquisitionYear</th>\n",
              "      <th>width</th>\n",
              "      <th>height</th>\n",
              "      <th>units</th>\n",
              "    </tr>\n",
              "    <tr>\n",
              "      <th>id</th>\n",
              "      <th></th>\n",
              "      <th></th>\n",
              "      <th></th>\n",
              "      <th></th>\n",
              "      <th></th>\n",
              "      <th></th>\n",
              "      <th></th>\n",
              "      <th></th>\n",
              "    </tr>\n",
              "  </thead>\n",
              "  <tbody>\n",
              "    <tr>\n",
              "      <th>1035</th>\n",
              "      <td>Blake, Robert</td>\n",
              "      <td>A Figure Bowing before a Seated Old Man with h...</td>\n",
              "      <td>Watercolour, ink, chalk and graphite on paper....</td>\n",
              "      <td>NaN</td>\n",
              "      <td>1922</td>\n",
              "      <td>394</td>\n",
              "      <td>419</td>\n",
              "      <td>mm</td>\n",
              "    </tr>\n",
              "    <tr>\n",
              "      <th>1036</th>\n",
              "      <td>Blake, Robert</td>\n",
              "      <td>Two Drawings of Frightened Figures, Probably f...</td>\n",
              "      <td>Graphite on paper</td>\n",
              "      <td>NaN</td>\n",
              "      <td>1922</td>\n",
              "      <td>311</td>\n",
              "      <td>213</td>\n",
              "      <td>mm</td>\n",
              "    </tr>\n",
              "    <tr>\n",
              "      <th>1037</th>\n",
              "      <td>Blake, Robert</td>\n",
              "      <td>The Preaching of Warning. Verso: An Old Man En...</td>\n",
              "      <td>Graphite on paper. Verso: graphite on paper</td>\n",
              "      <td>1785.0</td>\n",
              "      <td>1922</td>\n",
              "      <td>343</td>\n",
              "      <td>467</td>\n",
              "      <td>mm</td>\n",
              "    </tr>\n",
              "    <tr>\n",
              "      <th>1038</th>\n",
              "      <td>Blake, Robert</td>\n",
              "      <td>Six Drawings of Figures with Outstretched Arms</td>\n",
              "      <td>Graphite on paper</td>\n",
              "      <td>NaN</td>\n",
              "      <td>1922</td>\n",
              "      <td>318</td>\n",
              "      <td>394</td>\n",
              "      <td>mm</td>\n",
              "    </tr>\n",
              "    <tr>\n",
              "      <th>1039</th>\n",
              "      <td>Blake, William</td>\n",
              "      <td>The Circle of the Lustful: Francesca da Rimini...</td>\n",
              "      <td>Line engraving on paper</td>\n",
              "      <td>1826.0</td>\n",
              "      <td>1919</td>\n",
              "      <td>243</td>\n",
              "      <td>335</td>\n",
              "      <td>mm</td>\n",
              "    </tr>\n",
              "  </tbody>\n",
              "</table>\n",
              "</div>"
            ],
            "text/plain": [
              "              artist  ... units\n",
              "id                    ...      \n",
              "1035   Blake, Robert  ...    mm\n",
              "1036   Blake, Robert  ...    mm\n",
              "1037   Blake, Robert  ...    mm\n",
              "1038   Blake, Robert  ...    mm\n",
              "1039  Blake, William  ...    mm\n",
              "\n",
              "[5 rows x 8 columns]"
            ]
          },
          "metadata": {
            "tags": []
          }
        }
      ]
    },
    {
      "cell_type": "code",
      "metadata": {
        "id": "uO5y2tnbnRnm",
        "colab": {
          "base_uri": "https://localhost:8080/",
          "height": 235
        },
        "outputId": "41a1d6fc-9173-4945-c964-effca74892b5"
      },
      "source": [
        "# compress and decompression a pickle file - default is infer.\n",
        "# DataFrame.to_pickle(self, path, compression='infer', protocol=4)\n",
        "# compression = {‘infer’, ‘gzip’, ‘bz2’, ‘zip’, ‘xz’, None} \n",
        "\n",
        "PICKLE_COM_FILE_PATH = os.path.join('collection-master', 'artwork_df.xz')\n",
        "\n",
        "df4.to_pickle(PICKLE_COM_FILE_PATH, compression='xz')\n",
        "df6 = pd.read_pickle(PICKLE_COM_FILE_PATH, compression='xz')\n",
        "\n",
        "display(df6)\n",
        "\n",
        "# comparision of compression types\n",
        "# infer   = 8.5 MB\n",
        "# gzip    = 877 KB\n",
        "# bz2     = 646 KB\n",
        "# zip     = 892 KB\n",
        "# xz      = 567 KB"
      ],
      "execution_count": 5,
      "outputs": [
        {
          "output_type": "display_data",
          "data": {
            "text/html": [
              "<div>\n",
              "<style scoped>\n",
              "    .dataframe tbody tr th:only-of-type {\n",
              "        vertical-align: middle;\n",
              "    }\n",
              "\n",
              "    .dataframe tbody tr th {\n",
              "        vertical-align: top;\n",
              "    }\n",
              "\n",
              "    .dataframe thead th {\n",
              "        text-align: right;\n",
              "    }\n",
              "</style>\n",
              "<table border=\"1\" class=\"dataframe\">\n",
              "  <thead>\n",
              "    <tr style=\"text-align: right;\">\n",
              "      <th></th>\n",
              "      <th>artist</th>\n",
              "      <th>title</th>\n",
              "      <th>medium</th>\n",
              "      <th>year</th>\n",
              "      <th>acquisitionYear</th>\n",
              "      <th>width</th>\n",
              "      <th>height</th>\n",
              "      <th>units</th>\n",
              "    </tr>\n",
              "    <tr>\n",
              "      <th>id</th>\n",
              "      <th></th>\n",
              "      <th></th>\n",
              "      <th></th>\n",
              "      <th></th>\n",
              "      <th></th>\n",
              "      <th></th>\n",
              "      <th></th>\n",
              "      <th></th>\n",
              "    </tr>\n",
              "  </thead>\n",
              "  <tbody>\n",
              "    <tr>\n",
              "      <th>1035</th>\n",
              "      <td>Blake, Robert</td>\n",
              "      <td>A Figure Bowing before a Seated Old Man with h...</td>\n",
              "      <td>Watercolour, ink, chalk and graphite on paper....</td>\n",
              "      <td>NaN</td>\n",
              "      <td>1922</td>\n",
              "      <td>394</td>\n",
              "      <td>419</td>\n",
              "      <td>mm</td>\n",
              "    </tr>\n",
              "    <tr>\n",
              "      <th>1036</th>\n",
              "      <td>Blake, Robert</td>\n",
              "      <td>Two Drawings of Frightened Figures, Probably f...</td>\n",
              "      <td>Graphite on paper</td>\n",
              "      <td>NaN</td>\n",
              "      <td>1922</td>\n",
              "      <td>311</td>\n",
              "      <td>213</td>\n",
              "      <td>mm</td>\n",
              "    </tr>\n",
              "    <tr>\n",
              "      <th>1037</th>\n",
              "      <td>Blake, Robert</td>\n",
              "      <td>The Preaching of Warning. Verso: An Old Man En...</td>\n",
              "      <td>Graphite on paper. Verso: graphite on paper</td>\n",
              "      <td>1785.0</td>\n",
              "      <td>1922</td>\n",
              "      <td>343</td>\n",
              "      <td>467</td>\n",
              "      <td>mm</td>\n",
              "    </tr>\n",
              "    <tr>\n",
              "      <th>1038</th>\n",
              "      <td>Blake, Robert</td>\n",
              "      <td>Six Drawings of Figures with Outstretched Arms</td>\n",
              "      <td>Graphite on paper</td>\n",
              "      <td>NaN</td>\n",
              "      <td>1922</td>\n",
              "      <td>318</td>\n",
              "      <td>394</td>\n",
              "      <td>mm</td>\n",
              "    </tr>\n",
              "    <tr>\n",
              "      <th>1039</th>\n",
              "      <td>Blake, William</td>\n",
              "      <td>The Circle of the Lustful: Francesca da Rimini...</td>\n",
              "      <td>Line engraving on paper</td>\n",
              "      <td>1826.0</td>\n",
              "      <td>1919</td>\n",
              "      <td>243</td>\n",
              "      <td>335</td>\n",
              "      <td>mm</td>\n",
              "    </tr>\n",
              "  </tbody>\n",
              "</table>\n",
              "</div>"
            ],
            "text/plain": [
              "              artist  ... units\n",
              "id                    ...      \n",
              "1035   Blake, Robert  ...    mm\n",
              "1036   Blake, Robert  ...    mm\n",
              "1037   Blake, Robert  ...    mm\n",
              "1038   Blake, Robert  ...    mm\n",
              "1039  Blake, William  ...    mm\n",
              "\n",
              "[5 rows x 8 columns]"
            ]
          },
          "metadata": {
            "tags": []
          }
        }
      ]
    },
    {
      "cell_type": "markdown",
      "metadata": {
        "id": "eoE5BCZ0gpZA"
      },
      "source": [
        "###Unique DataSet"
      ]
    },
    {
      "cell_type": "code",
      "metadata": {
        "colab": {
          "base_uri": "https://localhost:8080/"
        },
        "id": "NK9ZdfhYeFsx",
        "outputId": "974aa03a-4e05-4ecd-a952-921fa850b56d"
      },
      "source": [
        "df7 = pd.read_pickle(PICKLE_FILE_PATH)\n",
        "\n",
        "df7.artist # not a recommmendate way to get a value of data point\n",
        "df7['artist'] # recommendate way\n",
        "\n",
        "# unique artists\n",
        "artists = df7['artist']\n",
        "print(artists)\n",
        "uni_artists = pd.unique(artists)\n",
        "print(uni_artists)\n",
        "print(len(artists))\n",
        "print(len(uni_artists))\n",
        "\n"
      ],
      "execution_count": 6,
      "outputs": [
        {
          "output_type": "stream",
          "text": [
            "id\n",
            "1035     Blake, Robert\n",
            "1036     Blake, Robert\n",
            "1037     Blake, Robert\n",
            "1038     Blake, Robert\n",
            "1039    Blake, William\n",
            "Name: artist, dtype: object\n",
            "['Blake, Robert' 'Blake, William']\n",
            "5\n",
            "2\n"
          ],
          "name": "stdout"
        }
      ]
    },
    {
      "cell_type": "markdown",
      "metadata": {
        "id": "6vgQvAARgwty"
      },
      "source": [
        "### Filter DataSet"
      ]
    },
    {
      "cell_type": "code",
      "metadata": {
        "colab": {
          "base_uri": "https://localhost:8080/"
        },
        "id": "3RLbdCRKgzMY",
        "outputId": "6425c963-8ee1-4641-97bd-3e333217895a"
      },
      "source": [
        "df8 = pd.read_pickle(PICKLE_FILE_PATH)\n",
        "\n",
        "# way1: find True and False\n",
        "df9 = df8['artist'] == 'Blake, Robert' # returns a Series\n",
        "print(df9)\n",
        "print(df9.value_counts()) # True 4, False 1\n",
        "\n",
        "#way2: find True only\n",
        "df10 = df8['artist'].value_counts()\n",
        "print('True Count:', df10['Blake, Robert'])"
      ],
      "execution_count": 7,
      "outputs": [
        {
          "output_type": "stream",
          "text": [
            "id\n",
            "1035     True\n",
            "1036     True\n",
            "1037     True\n",
            "1038     True\n",
            "1039    False\n",
            "Name: artist, dtype: bool\n",
            "True     4\n",
            "False    1\n",
            "Name: artist, dtype: int64\n",
            "True Count: 4\n"
          ],
          "name": "stdout"
        }
      ]
    },
    {
      "cell_type": "markdown",
      "metadata": {
        "id": "ox5bnCT2r2ad"
      },
      "source": [
        "###Indexing DataSet"
      ]
    },
    {
      "cell_type": "code",
      "metadata": {
        "id": "mDJ1JbQjr6vx"
      },
      "source": [
        "# iat, at, iloc, loc\n",
        "# https://github.com/jugalpanchal/py-pilgrim/blob/main/pd_dt_route.ipynb\n"
      ],
      "execution_count": 8,
      "outputs": []
    }
  ]
}