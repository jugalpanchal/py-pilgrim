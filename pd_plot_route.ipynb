{
  "nbformat": 4,
  "nbformat_minor": 0,
  "metadata": {
    "colab": {
      "name": "pd_plot_route.ipynb",
      "provenance": [],
      "authorship_tag": "ABX9TyOwqJ3xprj+ZdwLSMKN7IAp",
      "include_colab_link": true
    },
    "kernelspec": {
      "name": "python3",
      "display_name": "Python 3"
    },
    "language_info": {
      "name": "python"
    }
  },
  "cells": [
    {
      "cell_type": "markdown",
      "metadata": {
        "id": "view-in-github",
        "colab_type": "text"
      },
      "source": [
        "<a href=\"https://colab.research.google.com/github/jugalpanchal/py-pilgrim/blob/main/pd_plot_route.ipynb\" target=\"_parent\"><img src=\"https://colab.research.google.com/assets/colab-badge.svg\" alt=\"Open In Colab\"/></a>"
      ]
    },
    {
      "cell_type": "code",
      "metadata": {
        "id": "0RbF7QhLVTEE"
      },
      "source": [
        "import numpy as np\n",
        "import pandas as pd"
      ],
      "execution_count": 1,
      "outputs": []
    },
    {
      "cell_type": "code",
      "metadata": {
        "colab": {
          "base_uri": "https://localhost:8080/"
        },
        "id": "IuqvcBjBVpqe",
        "outputId": "6ba50a83-7a5d-431f-aa88-71a83fba455c"
      },
      "source": [
        "# Pandas plot is created on top of Matplotlib :)\n",
        "\n",
        "# create a dataset\n",
        "records = [(\"1950\", \"Shop1\", 2),\n",
        "           (\"1950\", \"Shop2\", 6),\n",
        "           (\"1970\", \"Shop3\", 6),\n",
        "           (\"1970\", \"Shop4\", 10),\n",
        "           (\"1970\", \"Shop5\", 10),\n",
        "           (\"2000\", \"Shop6\", 10),\n",
        "           (\"2010\", \"Shop7\", 12)]\n",
        "\n",
        "df1 = pd.DataFrame.from_records(records,  columns=[\"Year\", \"ShopCode\", \"NoOfEmployee\"])\n",
        "print(df1)\n",
        "print('\\n')\n",
        "\n",
        "df1 = df1.set_index('Year') # change default index value to Price\n",
        "print(df1)"
      ],
      "execution_count": 2,
      "outputs": [
        {
          "output_type": "stream",
          "text": [
            "   Year ShopCode  NoOfEmployee\n",
            "0  1950    Shop1             2\n",
            "1  1950    Shop2             6\n",
            "2  1970    Shop3             6\n",
            "3  1970    Shop4            10\n",
            "4  1970    Shop5            10\n",
            "5  2000    Shop6            10\n",
            "6  2010    Shop7            12\n",
            "\n",
            "\n",
            "     ShopCode  NoOfEmployee\n",
            "Year                       \n",
            "1950    Shop1             2\n",
            "1950    Shop2             6\n",
            "1970    Shop3             6\n",
            "1970    Shop4            10\n",
            "1970    Shop5            10\n",
            "2000    Shop6            10\n",
            "2010    Shop7            12\n"
          ],
          "name": "stdout"
        }
      ]
    },
    {
      "cell_type": "code",
      "metadata": {
        "colab": {
          "base_uri": "https://localhost:8080/",
          "height": 398
        },
        "id": "F1aMgp7LWSuF",
        "outputId": "6d4cb0d5-a38b-45a9-e86b-fdc4ff3297d9"
      },
      "source": [
        "df2 = df1.groupby('Year').size()\n",
        "print(df2)\n",
        "\n",
        "# figure(dashboard) - entire space\n",
        "# Axes(subplots) - small part to plot a diagram\n",
        "\n",
        "df2.plot() "
      ],
      "execution_count": 3,
      "outputs": [
        {
          "output_type": "stream",
          "text": [
            "Year\n",
            "1950    2\n",
            "1970    3\n",
            "2000    1\n",
            "2010    1\n",
            "dtype: int64\n"
          ],
          "name": "stdout"
        },
        {
          "output_type": "execute_result",
          "data": {
            "text/plain": [
              "<matplotlib.axes._subplots.AxesSubplot at 0x7fd9e34b1890>"
            ]
          },
          "metadata": {
            "tags": []
          },
          "execution_count": 3
        },
        {
          "output_type": "display_data",
          "data": {
            "image/png": "[encoded data removed]",
            "text/plain": [
              "<Figure size 432x288 with 1 Axes>"
            ]
          },
          "metadata": {
            "tags": [],
            "needs_background": "light"
          }
        }
      ]
    }
  ]
}