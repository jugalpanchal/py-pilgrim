{
  "nbformat": 4,
  "nbformat_minor": 0,
  "metadata": {
    "colab": {
      "name": "pd_dt_route.ipynb",
      "provenance": [],
      "authorship_tag": "ABX9TyPpBF/ygWpG1HUhU9c2YZak",
      "include_colab_link": true
    },
    "kernelspec": {
      "name": "python3",
      "display_name": "Python 3"
    },
    "language_info": {
      "name": "python"
    }
  },
  "cells": [
    {
      "cell_type": "markdown",
      "metadata": {
        "id": "view-in-github",
        "colab_type": "text"
      },
      "source": [
        "<a href=\"https://colab.research.google.com/github/jugalpanchal/py-pilgrim/blob/main/pd_dt_route.ipynb\" target=\"_parent\"><img src=\"https://colab.research.google.com/assets/colab-badge.svg\" alt=\"Open In Colab\"/></a>"
      ]
    },
    {
      "cell_type": "code",
      "metadata": {
        "id": "8h6uzC5-s5c-"
      },
      "source": [
        "import numpy as np\n",
        "import pandas as pd"
      ],
      "execution_count": 1,
      "outputs": []
    },
    {
      "cell_type": "code",
      "metadata": {
        "colab": {
          "base_uri": "https://localhost:8080/"
        },
        "id": "PSQ3ZfyxOkvc",
        "outputId": "9ffbad02-0b5d-4f8f-d7c1-2c621dd71d06"
      },
      "source": [
        "# 1D Array\n",
        "np_array = np.random.rand(3) # type: float64\n",
        "print(type(np_array))\n",
        "\n",
        "print(np_array)"
      ],
      "execution_count": 2,
      "outputs": [
        {
          "output_type": "stream",
          "text": [
            "<class 'numpy.ndarray'>\n",
            "[0.96187471 0.8791975  0.89348274]\n"
          ],
          "name": "stdout"
        }
      ]
    },
    {
      "cell_type": "code",
      "metadata": {
        "colab": {
          "base_uri": "https://localhost:8080/"
        },
        "id": "2nlJZK3hOn1B",
        "outputId": "3f52dc54-dfb9-45a7-873f-22ff0703809e"
      },
      "source": [
        "# Pandas Series - contains labels\n",
        "first_series = pd.Series(np_array) # class: Series class\n",
        "print(type(first_series))\n",
        "\n",
        "print(first_series)"
      ],
      "execution_count": 3,
      "outputs": [
        {
          "output_type": "stream",
          "text": [
            "<class 'pandas.core.series.Series'>\n",
            "0    0.961875\n",
            "1    0.879198\n",
            "2    0.893483\n",
            "dtype: float64\n"
          ],
          "name": "stdout"
        }
      ]
    },
    {
      "cell_type": "code",
      "metadata": {
        "colab": {
          "base_uri": "https://localhost:8080/"
        },
        "id": "uDBCzm1BOqXS",
        "outputId": "6311d027-44f1-4a98-e703-17ac6241c4a6"
      },
      "source": [
        "# Pandas Series - custom labels\n",
        "second_series = pd.Series(np_array, index = [\"First\", \"Second\", \"Third\"])\n",
        "print(type(second_series))\n",
        "\n",
        "print(second_series)\n",
        "print(second_series[1]) # apply index\n",
        "print(second_series[\"Second\"]) # apply custom index\n",
        "print(second_series.index)"
      ],
      "execution_count": 4,
      "outputs": [
        {
          "output_type": "stream",
          "text": [
            "<class 'pandas.core.series.Series'>\n",
            "First     0.961875\n",
            "Second    0.879198\n",
            "Third     0.893483\n",
            "dtype: float64\n",
            "0.8791975044842304\n",
            "0.8791975044842304\n",
            "Index(['First', 'Second', 'Third'], dtype='object')\n"
          ],
          "name": "stdout"
        }
      ]
    },
    {
      "cell_type": "code",
      "metadata": {
        "colab": {
          "base_uri": "https://localhost:8080/"
        },
        "id": "d1lqclgEOqoQ",
        "outputId": "1a776786-e25e-48ba-b282-d589f87bab8d"
      },
      "source": [
        "# 2D Array\n",
        "np_2d_array = np.random.rand(3, 2)\n",
        "print(type(np_2d_array))\n",
        "\n",
        "print(np_2d_array)\n",
        "print(np_2d_array[2, 1])"
      ],
      "execution_count": 5,
      "outputs": [
        {
          "output_type": "stream",
          "text": [
            "<class 'numpy.ndarray'>\n",
            "[[0.51670827 0.54208696]\n",
            " [0.67889349 0.62810142]\n",
            " [0.83279384 0.12565755]]\n",
            "0.1256575543773727\n"
          ],
          "name": "stdout"
        }
      ]
    },
    {
      "cell_type": "code",
      "metadata": {
        "colab": {
          "base_uri": "https://localhost:8080/"
        },
        "id": "3O5WghyqOU05",
        "outputId": "e912bc68-4f88-4e7b-c5c6-705e201631b4"
      },
      "source": [
        "# Pandas DataFrame - along with row and col index/label\n",
        "first_df = pd.DataFrame(np_2d_array) # class: DataFrame\n",
        "print(type(first_df))\n",
        "\n",
        "print(first_df) # prints values with index\n",
        "# print(first_df[2,1]) # it fails :) - KeyError: (2, 1)\n",
        "print(first_df.columns)\n",
        "first_df.columns = [\"First\", \"Second\"]\n",
        "\n",
        "print(first_df)\n",
        "print(first_df[\"Second\"]) # It returns a series now.\n",
        "# print(first_df[1, \"second\"]) # it fails :) - KeyError: (1, 'second')\n",
        "print(first_df['Second'].values[1]) # the values gives a numpy array."
      ],
      "execution_count": 6,
      "outputs": [
        {
          "output_type": "stream",
          "text": [
            "<class 'pandas.core.frame.DataFrame'>\n",
            "          0         1\n",
            "0  0.516708  0.542087\n",
            "1  0.678893  0.628101\n",
            "2  0.832794  0.125658\n",
            "RangeIndex(start=0, stop=2, step=1)\n",
            "      First    Second\n",
            "0  0.516708  0.542087\n",
            "1  0.678893  0.628101\n",
            "2  0.832794  0.125658\n",
            "0    0.542087\n",
            "1    0.628101\n",
            "2    0.125658\n",
            "Name: Second, dtype: float64\n",
            "0.6281014186605604\n"
          ],
          "name": "stdout"
        }
      ]
    },
    {
      "cell_type": "code",
      "metadata": {
        "colab": {
          "base_uri": "https://localhost:8080/"
        },
        "id": "neR57UuJOyZQ",
        "outputId": "b808167d-2c8a-4eab-e742-2635910b8228"
      },
      "source": [
        "# iat, at, iloc, loc\n",
        "print(first_df.iat[1, 1])\n",
        "print(first_df.at[1, \"Second\"])\n",
        "print(first_df.iloc[1])\n",
        "print(first_df.iloc[1, 1])\n",
        "print(first_df.iloc[1][\"Second\"])"
      ],
      "execution_count": 7,
      "outputs": [
        {
          "output_type": "stream",
          "text": [
            "0.6281014186605604\n",
            "0.6281014186605604\n",
            "First     0.678893\n",
            "Second    0.628101\n",
            "Name: 1, dtype: float64\n",
            "0.6281014186605604\n",
            "0.6281014186605604\n"
          ],
          "name": "stdout"
        }
      ]
    },
    {
      "cell_type": "code",
      "metadata": {
        "colab": {
          "base_uri": "https://localhost:8080/"
        },
        "id": "JKLl-sn0MmLF",
        "outputId": "e0555119-f996-4665-9ee9-6bffc3b04090"
      },
      "source": [
        "records = [(\"Espresso\", \"5$\"),\n",
        "           (\"Flat White\", \"10$\")]\n",
        "\n",
        "df2 = pd.DataFrame.from_records(records)\n",
        "print(df2)"
      ],
      "execution_count": 8,
      "outputs": [
        {
          "output_type": "stream",
          "text": [
            "            0    1\n",
            "0    Espresso   5$\n",
            "1  Flat White  10$\n"
          ],
          "name": "stdout"
        }
      ]
    },
    {
      "cell_type": "code",
      "metadata": {
        "colab": {
          "base_uri": "https://localhost:8080/"
        },
        "id": "DGUKjFp8NH6w",
        "outputId": "4015aaa4-f7b4-4ced-aff6-f4033c6ac492"
      },
      "source": [
        "df3 = pd.DataFrame.from_records(records, columns=[\"Coffee\", \"Price\"])\n",
        "print(df3)"
      ],
      "execution_count": 9,
      "outputs": [
        {
          "output_type": "stream",
          "text": [
            "       Coffee Price\n",
            "0    Espresso    5$\n",
            "1  Flat White   10$\n"
          ],
          "name": "stdout"
        }
      ]
    }
  ]
}