{
  "nbformat": 4,
  "nbformat_minor": 0,
  "metadata": {
    "colab": {
      "name": "pd_dt_route.ipynb",
      "provenance": [],
      "authorship_tag": "ABX9TyOfNtQEV3udx0b0lGVRk82M",
      "include_colab_link": true
    },
    "kernelspec": {
      "name": "python3",
      "display_name": "Python 3"
    },
    "language_info": {
      "name": "python"
    }
  },
  "cells": [
    {
      "cell_type": "markdown",
      "metadata": {
        "id": "view-in-github",
        "colab_type": "text"
      },
      "source": [
        "<a href=\"https://colab.research.google.com/github/jugalpanchal/py-pilgrim/blob/main/pd_dt_route.ipynb\" target=\"_parent\"><img src=\"https://colab.research.google.com/assets/colab-badge.svg\" alt=\"Open In Colab\"/></a>"
      ]
    },
    {
      "cell_type": "code",
      "metadata": {
        "id": "8h6uzC5-s5c-"
      },
      "source": [
        "import numpy as np\n",
        "import pandas as pd"
      ],
      "execution_count": 1,
      "outputs": []
    },
    {
      "cell_type": "markdown",
      "metadata": {
        "id": "tYrbC3UZolLN"
      },
      "source": [
        "### 1D Array"
      ]
    },
    {
      "cell_type": "code",
      "metadata": {
        "colab": {
          "base_uri": "https://localhost:8080/"
        },
        "id": "PSQ3ZfyxOkvc",
        "outputId": "433179eb-08f5-42e4-b2c5-cff8a6656c59"
      },
      "source": [
        "# 1D Array\n",
        "np_array = np.random.rand(3) # type: float64\n",
        "print(type(np_array))\n",
        "\n",
        "print(np_array)"
      ],
      "execution_count": 2,
      "outputs": [
        {
          "output_type": "stream",
          "text": [
            "<class 'numpy.ndarray'>\n",
            "[0.50713783 0.56948573 0.62888791]\n"
          ],
          "name": "stdout"
        }
      ]
    },
    {
      "cell_type": "markdown",
      "metadata": {
        "id": "N3nY0zEWon_x"
      },
      "source": [
        "### Series"
      ]
    },
    {
      "cell_type": "code",
      "metadata": {
        "colab": {
          "base_uri": "https://localhost:8080/"
        },
        "id": "2nlJZK3hOn1B",
        "outputId": "b70d1621-2dbd-4e2e-d215-58758ccd1328"
      },
      "source": [
        "# Pandas Series - contains labels\n",
        "first_series = pd.Series(np_array) # class: Series class\n",
        "print(type(first_series))\n",
        "\n",
        "print(first_series)"
      ],
      "execution_count": 3,
      "outputs": [
        {
          "output_type": "stream",
          "text": [
            "<class 'pandas.core.series.Series'>\n",
            "0    0.507138\n",
            "1    0.569486\n",
            "2    0.628888\n",
            "dtype: float64\n"
          ],
          "name": "stdout"
        }
      ]
    },
    {
      "cell_type": "code",
      "metadata": {
        "colab": {
          "base_uri": "https://localhost:8080/"
        },
        "id": "uDBCzm1BOqXS",
        "outputId": "4e7af968-c81e-43dc-b4e5-37cdd6116e9d"
      },
      "source": [
        "# Pandas Series - custom labels\n",
        "second_series = pd.Series(np_array, index = [\"First\", \"Second\", \"Third\"])\n",
        "print(type(second_series))\n",
        "\n",
        "print(second_series)\n",
        "print('\\n', second_series[1]) # apply index\n",
        "print('\\n', second_series[\"Second\"]) # apply custom index\n",
        "print('\\n', second_series.index)"
      ],
      "execution_count": 4,
      "outputs": [
        {
          "output_type": "stream",
          "text": [
            "<class 'pandas.core.series.Series'>\n",
            "First     0.507138\n",
            "Second    0.569486\n",
            "Third     0.628888\n",
            "dtype: float64\n",
            "\n",
            " 0.5694857257897205\n",
            "\n",
            " 0.5694857257897205\n",
            "\n",
            " Index(['First', 'Second', 'Third'], dtype='object')\n"
          ],
          "name": "stdout"
        }
      ]
    },
    {
      "cell_type": "markdown",
      "metadata": {
        "id": "_6ObUdUqorNF"
      },
      "source": [
        "### 2D Array"
      ]
    },
    {
      "cell_type": "code",
      "metadata": {
        "colab": {
          "base_uri": "https://localhost:8080/"
        },
        "id": "d1lqclgEOqoQ",
        "outputId": "7730b25f-e4ef-4d1a-a7f6-c058274ef75e"
      },
      "source": [
        "# 2D Array\n",
        "np_2d_array = np.random.rand(3, 2)\n",
        "print(type(np_2d_array))\n",
        "\n",
        "print(np_2d_array)\n",
        "print(np_2d_array[2, 1])"
      ],
      "execution_count": 5,
      "outputs": [
        {
          "output_type": "stream",
          "text": [
            "<class 'numpy.ndarray'>\n",
            "[[0.36794473 0.41175872]\n",
            " [0.90629796 0.93859021]\n",
            " [0.38775304 0.13653164]]\n",
            "0.13653163639223265\n"
          ],
          "name": "stdout"
        }
      ]
    },
    {
      "cell_type": "code",
      "metadata": {
        "colab": {
          "base_uri": "https://localhost:8080/"
        },
        "id": "3O5WghyqOU05",
        "outputId": "177c6d50-ecda-4420-8f52-c4dcc97eb4f2"
      },
      "source": [
        "# Pandas DataFrame - along with row and col index/label\n",
        "first_df = pd.DataFrame(np_2d_array) # class: DataFrame\n",
        "print(type(first_df))\n",
        "\n",
        "print(first_df) # prints values with index\n",
        "# print(first_df[2,1]) # it fails :) - KeyError: (2, 1)\n",
        "print(first_df.columns)\n",
        "first_df.columns = [\"First\", \"Second\"]\n",
        "\n",
        "print(first_df)\n",
        "print(first_df[\"Second\"]) # It returns a series now.\n",
        "# print(first_df[1, \"second\"]) # it fails :) - KeyError: (1, 'second')\n",
        "print(first_df['Second'].values[1]) # the values gives a numpy array."
      ],
      "execution_count": 6,
      "outputs": [
        {
          "output_type": "stream",
          "text": [
            "<class 'pandas.core.frame.DataFrame'>\n",
            "          0         1\n",
            "0  0.367945  0.411759\n",
            "1  0.906298  0.938590\n",
            "2  0.387753  0.136532\n",
            "RangeIndex(start=0, stop=2, step=1)\n",
            "      First    Second\n",
            "0  0.367945  0.411759\n",
            "1  0.906298  0.938590\n",
            "2  0.387753  0.136532\n",
            "0    0.411759\n",
            "1    0.938590\n",
            "2    0.136532\n",
            "Name: Second, dtype: float64\n",
            "0.9385902091734749\n"
          ],
          "name": "stdout"
        }
      ]
    },
    {
      "cell_type": "markdown",
      "metadata": {
        "id": "8iHANze3ov-x"
      },
      "source": [
        "### Indexing: iat, at, iloc, loc"
      ]
    },
    {
      "cell_type": "code",
      "metadata": {
        "colab": {
          "base_uri": "https://localhost:8080/"
        },
        "id": "neR57UuJOyZQ",
        "outputId": "a9277a70-6e37-435e-cbda-6ea9565c85b6"
      },
      "source": [
        "# iat, at, iloc, loc\n",
        "print('2nd row and 2nd col: ', first_df.iat[1, 1])\n",
        "print('2nd row and 2nd col: ', first_df.at[1, \"Second\"])\n",
        "\n",
        "print('\\nColumns:')\n",
        "print(first_df.iloc[1])\n",
        "\n",
        "print('\\n')\n",
        "print('2nd row and 2nd col: ', first_df.iloc[1, 1])\n",
        "print('2nd row and 2nd col: ', first_df.iloc[1][\"Second\"])\n",
        "\n",
        "# loc(row index/range/Series), col index/range/Series/ColumnName) - by labels(Label is part of DataFrame, first column but it does not include in positon count)\n",
        "# iloc(row index/range/Series, col index/range/Series/ColumnName) - by position(position starts with 0)\n",
        "\n",
        "#index: 2\n",
        "#range: [start:n] - n is number of data points.\n",
        "#WildCard: [:] - it gives all rows/cols.\n",
        "#Series: [3, 6, 8, 103]"
      ],
      "execution_count": 7,
      "outputs": [
        {
          "output_type": "stream",
          "text": [
            "2nd row and 2nd col:  0.9385902091734749\n",
            "2nd row and 2nd col:  0.9385902091734749\n",
            "\n",
            "Columns:\n",
            "First     0.906298\n",
            "Second    0.938590\n",
            "Name: 1, dtype: float64\n",
            "\n",
            "\n",
            "2nd row and 2nd col:  0.9385902091734749\n",
            "2nd row and 2nd col:  0.9385902091734749\n"
          ],
          "name": "stdout"
        }
      ]
    },
    {
      "cell_type": "markdown",
      "metadata": {
        "id": "Fp6J7X6wnZP8"
      },
      "source": [
        "### Create a dataframe"
      ]
    },
    {
      "cell_type": "code",
      "metadata": {
        "colab": {
          "base_uri": "https://localhost:8080/"
        },
        "id": "JKLl-sn0MmLF",
        "outputId": "c9b20c51-bb74-4aa2-b1de-52ee9c33d4cd"
      },
      "source": [
        "records = [(\"Espresso\", 5, 4),\n",
        "           (\"Brew\", 4, 6),\n",
        "           (\"Flat White\", 3, 7)]\n",
        "\n",
        "df2 = pd.DataFrame.from_records(records)\n",
        "print(df2)\n",
        "print('\\n')\n",
        "\n",
        "df3 = pd.DataFrame.from_records(records, columns=[\"Coffee\", \"Price\", \"Qty\"]) # Add columns\n",
        "print(df3)\n",
        "print('\\n')\n",
        "\n",
        "df31 = df3.append(df3)\n",
        "print(df31)"
      ],
      "execution_count": 8,
      "outputs": [
        {
          "output_type": "stream",
          "text": [
            "            0  1  2\n",
            "0    Espresso  5  4\n",
            "1        Brew  4  6\n",
            "2  Flat White  3  7\n",
            "\n",
            "\n",
            "       Coffee  Price  Qty\n",
            "0    Espresso      5    4\n",
            "1        Brew      4    6\n",
            "2  Flat White      3    7\n",
            "\n",
            "\n",
            "       Coffee  Price  Qty\n",
            "0    Espresso      5    4\n",
            "1        Brew      4    6\n",
            "2  Flat White      3    7\n",
            "0    Espresso      5    4\n",
            "1        Brew      4    6\n",
            "2  Flat White      3    7\n"
          ],
          "name": "stdout"
        }
      ]
    },
    {
      "cell_type": "code",
      "metadata": {
        "id": "-UvZg81KCB_Q",
        "outputId": "a5d611ac-51ee-4d5f-8b89-dcb2fb0c94aa",
        "colab": {
          "base_uri": "https://localhost:8080/"
        }
      },
      "source": [
        "df21 = pd.DataFrame({'Alpha' : ['a', 'b', 'c', 'd',\n",
        "                           'e', 'f'],\n",
        "                    'Beta' : [1, 2, 3, 4, 5, 6],\n",
        "                    'Gamma' : [2.0, 5., 8., 1., 2., 9.]})\n",
        "print(df21)"
      ],
      "execution_count": 9,
      "outputs": [
        {
          "output_type": "stream",
          "text": [
            "  Alpha  Beta  Gamma\n",
            "0     a     1    2.0\n",
            "1     b     2    5.0\n",
            "2     c     3    8.0\n",
            "3     d     4    1.0\n",
            "4     e     5    2.0\n",
            "5     f     6    9.0\n"
          ],
          "name": "stdout"
        }
      ]
    },
    {
      "cell_type": "markdown",
      "metadata": {
        "id": "zfT5I3sLtDlx"
      },
      "source": [
        "### Filter Columns"
      ]
    },
    {
      "cell_type": "code",
      "metadata": {
        "id": "HRBUBjcCtVMA",
        "colab": {
          "base_uri": "https://localhost:8080/",
          "height": 284
        },
        "outputId": "7b00db51-b1d5-4e6c-e9cf-6529a9bbba26"
      },
      "source": [
        "print(df3['Coffee'])\n",
        "print('\\n')\n",
        "\n",
        "print(df3[['Coffee','Qty']])\n",
        "print('\\n')\n",
        "\n",
        "df3.loc[df3['Coffee'] == 'Brew']"
      ],
      "execution_count": 10,
      "outputs": [
        {
          "output_type": "stream",
          "text": [
            "0      Espresso\n",
            "1          Brew\n",
            "2    Flat White\n",
            "Name: Coffee, dtype: object\n",
            "\n",
            "\n",
            "       Coffee  Qty\n",
            "0    Espresso    4\n",
            "1        Brew    6\n",
            "2  Flat White    7\n",
            "\n",
            "\n"
          ],
          "name": "stdout"
        },
        {
          "output_type": "execute_result",
          "data": {
            "text/html": [
              "<div>\n",
              "<style scoped>\n",
              "    .dataframe tbody tr th:only-of-type {\n",
              "        vertical-align: middle;\n",
              "    }\n",
              "\n",
              "    .dataframe tbody tr th {\n",
              "        vertical-align: top;\n",
              "    }\n",
              "\n",
              "    .dataframe thead th {\n",
              "        text-align: right;\n",
              "    }\n",
              "</style>\n",
              "<table border=\"1\" class=\"dataframe\">\n",
              "  <thead>\n",
              "    <tr style=\"text-align: right;\">\n",
              "      <th></th>\n",
              "      <th>Coffee</th>\n",
              "      <th>Price</th>\n",
              "      <th>Qty</th>\n",
              "    </tr>\n",
              "  </thead>\n",
              "  <tbody>\n",
              "    <tr>\n",
              "      <th>1</th>\n",
              "      <td>Brew</td>\n",
              "      <td>4</td>\n",
              "      <td>6</td>\n",
              "    </tr>\n",
              "  </tbody>\n",
              "</table>\n",
              "</div>"
            ],
            "text/plain": [
              "  Coffee  Price  Qty\n",
              "1   Brew      4    6"
            ]
          },
          "metadata": {
            "tags": []
          },
          "execution_count": 10
        }
      ]
    },
    {
      "cell_type": "markdown",
      "metadata": {
        "id": "96u6jKewpEms"
      },
      "source": [
        "### New Column"
      ]
    },
    {
      "cell_type": "code",
      "metadata": {
        "colab": {
          "base_uri": "https://localhost:8080/"
        },
        "id": "DGUKjFp8NH6w",
        "outputId": "d77af4f9-3338-4ff3-e6ad-4d1e65226771"
      },
      "source": [
        "total = df3[\"Price\"] * df3[\"Qty\"] # if value is not numeric then we can covert it if required.\n",
        "df3 = df3.assign(Total = total) # create a new column\n",
        "print(df3)"
      ],
      "execution_count": 11,
      "outputs": [
        {
          "output_type": "stream",
          "text": [
            "       Coffee  Price  Qty  Total\n",
            "0    Espresso      5    4     20\n",
            "1        Brew      4    6     24\n",
            "2  Flat White      3    7     21\n"
          ],
          "name": "stdout"
        }
      ]
    },
    {
      "cell_type": "markdown",
      "metadata": {
        "id": "TVXRfa7orXID"
      },
      "source": [
        "### Meth Methods"
      ]
    },
    {
      "cell_type": "code",
      "metadata": {
        "id": "GVwUdmtwrXUq",
        "colab": {
          "base_uri": "https://localhost:8080/"
        },
        "outputId": "05610cf4-f972-44f2-8d04-b2e202c1fa54"
      },
      "source": [
        "print('Max Value:            ', df3['Total'].max())\n",
        "\n",
        "print('Max Value Label/Index:', df3['Total'].idxmax()) # It can be used further to help to get a entire row.\n"
      ],
      "execution_count": 12,
      "outputs": [
        {
          "output_type": "stream",
          "text": [
            "Max Value:             24\n",
            "Max Value Label/Index: 1\n"
          ],
          "name": "stdout"
        }
      ]
    },
    {
      "cell_type": "markdown",
      "metadata": {
        "id": "rj7lnqf2lpYa"
      },
      "source": [
        "### Replace anomalies to NaN\n",
        "\n"
      ]
    },
    {
      "cell_type": "code",
      "metadata": {
        "id": "c-ea5qQ0l09c",
        "colab": {
          "base_uri": "https://localhost:8080/"
        },
        "outputId": "ac23ecf2-dd26-4a10-b385-9470d17e96c2"
      },
      "source": [
        "records = [(\"Espresso\", \"5\"),\n",
        "           (\"Cappuccino\", \"5A\"),\n",
        "           (\"Americano\", \"NaN\"),\n",
        "           (\"Brew\", \"5D\"),\n",
        "           (\"Flat White\", \"10\")]\n",
        "df4 = pd.DataFrame.from_records(records, columns=[\"Coffee\", \"Price\"])\n",
        "print(df4)\n",
        "print('\\n')\n",
        "\n",
        "df4.loc[:, 'Price'] = pd.to_numeric(df4['Price'], errors='coerce') # replace no valid data to NaN and convert str to numeric\n",
        "print(df4)"
      ],
      "execution_count": 13,
      "outputs": [
        {
          "output_type": "stream",
          "text": [
            "       Coffee Price\n",
            "0    Espresso     5\n",
            "1  Cappuccino    5A\n",
            "2   Americano   NaN\n",
            "3        Brew    5D\n",
            "4  Flat White    10\n",
            "\n",
            "\n",
            "       Coffee  Price\n",
            "0    Espresso    5.0\n",
            "1  Cappuccino    NaN\n",
            "2   Americano    NaN\n",
            "3        Brew    NaN\n",
            "4  Flat White   10.0\n"
          ],
          "name": "stdout"
        }
      ]
    },
    {
      "cell_type": "code",
      "metadata": {
        "id": "FBjo8E7HrPpm",
        "colab": {
          "base_uri": "https://localhost:8080/"
        },
        "outputId": "aa0b32fc-1592-4651-d2fc-a4f9c64808b8"
      },
      "source": [
        "# Series - fillna\n",
        "np_array_2 = [\"A\", np.nan, \"C\", \"D\"]\n",
        "third_series = pd.Series(np_array_2, index = [\"A_Col\", \"B_Col\", \"C_Col\", \"D_Col\"])\n",
        "print(type(third_series))\n",
        "print(third_series)\n",
        "\n",
        "four_series = third_series.fillna(\"B\") # fill missing data\n",
        "print(four_series)"
      ],
      "execution_count": 14,
      "outputs": [
        {
          "output_type": "stream",
          "text": [
            "<class 'pandas.core.series.Series'>\n",
            "A_Col      A\n",
            "B_Col    NaN\n",
            "C_Col      C\n",
            "D_Col      D\n",
            "dtype: object\n",
            "A_Col    A\n",
            "B_Col    B\n",
            "C_Col    C\n",
            "D_Col    D\n",
            "dtype: object\n"
          ],
          "name": "stdout"
        }
      ]
    },
    {
      "cell_type": "code",
      "metadata": {
        "id": "xHqUR8cJrVgc",
        "colab": {
          "base_uri": "https://localhost:8080/",
          "height": 173
        },
        "outputId": "ee428e47-0b00-460a-9b9f-e99180d22a4c"
      },
      "source": [
        "# DataFrame - fillna\n",
        "# https://docs.w3cub.com/pandas~0.25/reference/api/pandas.series.fillna\n",
        "df41 = pd.DataFrame([[np.nan, 2, np.nan, 0],\n",
        "                    [3, 4, np.nan, 1],\n",
        "                    [np.nan, np.nan, np.nan, 5],\n",
        "                    [np.nan, 3, np.nan, 4]],\n",
        "                    columns=list('ABCD'))\n",
        "\n",
        "df41.fillna(9)"
      ],
      "execution_count": 15,
      "outputs": [
        {
          "output_type": "execute_result",
          "data": {
            "text/html": [
              "<div>\n",
              "<style scoped>\n",
              "    .dataframe tbody tr th:only-of-type {\n",
              "        vertical-align: middle;\n",
              "    }\n",
              "\n",
              "    .dataframe tbody tr th {\n",
              "        vertical-align: top;\n",
              "    }\n",
              "\n",
              "    .dataframe thead th {\n",
              "        text-align: right;\n",
              "    }\n",
              "</style>\n",
              "<table border=\"1\" class=\"dataframe\">\n",
              "  <thead>\n",
              "    <tr style=\"text-align: right;\">\n",
              "      <th></th>\n",
              "      <th>A</th>\n",
              "      <th>B</th>\n",
              "      <th>C</th>\n",
              "      <th>D</th>\n",
              "    </tr>\n",
              "  </thead>\n",
              "  <tbody>\n",
              "    <tr>\n",
              "      <th>0</th>\n",
              "      <td>9.0</td>\n",
              "      <td>2.0</td>\n",
              "      <td>9.0</td>\n",
              "      <td>0</td>\n",
              "    </tr>\n",
              "    <tr>\n",
              "      <th>1</th>\n",
              "      <td>3.0</td>\n",
              "      <td>4.0</td>\n",
              "      <td>9.0</td>\n",
              "      <td>1</td>\n",
              "    </tr>\n",
              "    <tr>\n",
              "      <th>2</th>\n",
              "      <td>9.0</td>\n",
              "      <td>9.0</td>\n",
              "      <td>9.0</td>\n",
              "      <td>5</td>\n",
              "    </tr>\n",
              "    <tr>\n",
              "      <th>3</th>\n",
              "      <td>9.0</td>\n",
              "      <td>3.0</td>\n",
              "      <td>9.0</td>\n",
              "      <td>4</td>\n",
              "    </tr>\n",
              "  </tbody>\n",
              "</table>\n",
              "</div>"
            ],
            "text/plain": [
              "     A    B    C  D\n",
              "0  9.0  2.0  9.0  0\n",
              "1  3.0  4.0  9.0  1\n",
              "2  9.0  9.0  9.0  5\n",
              "3  9.0  3.0  9.0  4"
            ]
          },
          "metadata": {
            "tags": []
          },
          "execution_count": 15
        }
      ]
    },
    {
      "cell_type": "markdown",
      "metadata": {
        "id": "2pCiXEJNbzVo"
      },
      "source": [
        "### ETL"
      ]
    },
    {
      "cell_type": "code",
      "metadata": {
        "id": "-LVJyHU8bzpu",
        "colab": {
          "base_uri": "https://localhost:8080/"
        },
        "outputId": "83089044-7bc2-4cc8-acaa-cf0ef2cffa4f"
      },
      "source": [
        "# Aggregation - return one(ex min) value from each group\n",
        "# Trasformation - change/replace(ex replace NaN with frequently/min available in a column) some value and return same kind of dataframe\n",
        "# Filtering - minimize data by filer or where clause\n",
        "\n",
        "# create a dataset\n",
        "records = [(\"Espresso\", \"Shop1\", 5),\n",
        "           (\"Cappuccino\", \"Shop2\", 6),\n",
        "           (\"Americano\", \"Shop3\", \"NaN\"),\n",
        "           (\"Brew\", \"Shop1\", 3),\n",
        "           (\"Flat White\", \"Shop2\", 10)]\n",
        "df5 = pd.DataFrame.from_records(records, columns=[\"Coffee\", \"Shop\", \"Price\"])\n",
        "print(df5)\n",
        "print('\\n')"
      ],
      "execution_count": 16,
      "outputs": [
        {
          "output_type": "stream",
          "text": [
            "       Coffee   Shop Price\n",
            "0    Espresso  Shop1     5\n",
            "1  Cappuccino  Shop2     6\n",
            "2   Americano  Shop3   NaN\n",
            "3        Brew  Shop1     3\n",
            "4  Flat White  Shop2    10\n",
            "\n",
            "\n"
          ],
          "name": "stdout"
        }
      ]
    },
    {
      "cell_type": "code",
      "metadata": {
        "id": "JcppPNEj7i7M",
        "colab": {
          "base_uri": "https://localhost:8080/"
        },
        "outputId": "cac9100d-b658-4b76-e715-fbc8ef99b2b5"
      },
      "source": [
        "df6 = df5.copy() # create a clone\n",
        "\n",
        "grouped_df6 = df6.groupby('Shop') #class: DataFrameGroupBy\n",
        "print(type(grouped_df6))\n",
        "print('\\n')\n",
        "\n",
        "# Classic Iterate and Aggregate way1: Iterate DataFrameGroupBy object\n",
        "for group_name, group_df in grouped_df6: # group name, group dataframe\n",
        "  print(group_name)\n",
        "  print(group_df)\n",
        "  min_price = group_df['Price'].min() # Aggregate: min price in each group\n",
        "  print(\"{}: {}\".format(group_name, min_price))\n",
        "  print('\\n')\n",
        "\n",
        "# Aggregate: way2: min price in each group\n",
        "min_price_byagg = grouped_df6['Price'].agg(np.min)\n",
        "print('min_price_byagg:', min_price_byagg) #way 2.1\n",
        "print('\\n')\n",
        "min_price_bymin = grouped_df6['Price'].min()\n",
        "print('min_price_bymin:', min_price_bymin) #way 2.2\n",
        "print('\\n')"
      ],
      "execution_count": 17,
      "outputs": [
        {
          "output_type": "stream",
          "text": [
            "<class 'pandas.core.groupby.generic.DataFrameGroupBy'>\n",
            "\n",
            "\n",
            "Shop1\n",
            "     Coffee   Shop Price\n",
            "0  Espresso  Shop1     5\n",
            "3      Brew  Shop1     3\n",
            "Shop1: 3\n",
            "\n",
            "\n",
            "Shop2\n",
            "       Coffee   Shop Price\n",
            "1  Cappuccino  Shop2     6\n",
            "4  Flat White  Shop2    10\n",
            "Shop2: 6\n",
            "\n",
            "\n",
            "Shop3\n",
            "      Coffee   Shop Price\n",
            "2  Americano  Shop3   NaN\n",
            "Shop3: NaN\n",
            "\n",
            "\n",
            "min_price_byagg: Shop\n",
            "Shop1      3\n",
            "Shop2      6\n",
            "Shop3    NaN\n",
            "Name: Price, dtype: object\n",
            "\n",
            "\n",
            "min_price_bymin: Shop\n",
            "Shop1      3\n",
            "Shop2      6\n",
            "Shop3    NaN\n",
            "Name: Price, dtype: object\n",
            "\n",
            "\n"
          ],
          "name": "stdout"
        }
      ]
    },
    {
      "cell_type": "code",
      "metadata": {
        "id": "OeV3KQTE8YV6",
        "colab": {
          "base_uri": "https://localhost:8080/"
        },
        "outputId": "4fd443e1-5ba2-4ff8-e658-ea07d55fb641"
      },
      "source": [
        "# Filter\n",
        "# https://docs.w3cub.com/pandas~0.25/reference/api/pandas.core.groupby.dataframegroupby.filter\n",
        "# https://machinelearningknowledge.ai/pandas-tutorial-groupby-where-and-filter/\n",
        "\n",
        "df7 = df5.copy() # create a clone\n",
        "grouped_df7 = df6.groupby('Shop') #class: DataFrameGroupBy\n",
        "\n",
        "condition_exp1 = lambda x: x['Price'].mean() > 4 # mean: total/number-of-rows\n",
        "filtered_df = grouped_df7.filter(condition_exp1)\n",
        "print(filtered_df)\n",
        "print('\\n')\n",
        "\n",
        "\n",
        "# Transform\n",
        "grouped_price = df6['Price']\n",
        "#grouped_price.transform(func)"
      ],
      "execution_count": 18,
      "outputs": [
        {
          "output_type": "stream",
          "text": [
            "       Coffee   Shop Price\n",
            "1  Cappuccino  Shop2     6\n",
            "4  Flat White  Shop2    10\n",
            "\n",
            "\n"
          ],
          "name": "stdout"
        }
      ]
    }
  ]
}