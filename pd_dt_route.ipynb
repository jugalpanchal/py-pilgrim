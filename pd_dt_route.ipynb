{
  "nbformat": 4,
  "nbformat_minor": 0,
  "metadata": {
    "colab": {
      "name": "pd_dt_route.ipynb",
      "provenance": [],
      "authorship_tag": "ABX9TyOeq+0Hfq5ngaGqKskMABSW",
      "include_colab_link": true
    },
    "kernelspec": {
      "name": "python3",
      "display_name": "Python 3"
    },
    "language_info": {
      "name": "python"
    }
  },
  "cells": [
    {
      "cell_type": "markdown",
      "metadata": {
        "id": "view-in-github",
        "colab_type": "text"
      },
      "source": [
        "<a href=\"https://colab.research.google.com/github/jugalpanchal/py-pilgrim/blob/main/pd_dt_route.ipynb\" target=\"_parent\"><img src=\"https://colab.research.google.com/assets/colab-badge.svg\" alt=\"Open In Colab\"/></a>"
      ]
    },
    {
      "cell_type": "code",
      "metadata": {
        "id": "8h6uzC5-s5c-"
      },
      "source": [
        "import numpy as np\n",
        "import pandas as pd"
      ],
      "execution_count": 1,
      "outputs": []
    },
    {
      "cell_type": "code",
      "metadata": {
        "colab": {
          "base_uri": "https://localhost:8080/"
        },
        "id": "PSQ3ZfyxOkvc",
        "outputId": "42d0aa98-049d-47ba-ffd3-8ebaa1c10b6e"
      },
      "source": [
        "# 1D Array\n",
        "np_array = np.random.rand(3) # type: float64\n",
        "print(type(np_array))\n",
        "\n",
        "print(np_array)"
      ],
      "execution_count": 2,
      "outputs": [
        {
          "output_type": "stream",
          "text": [
            "<class 'numpy.ndarray'>\n",
            "[0.90745422 0.65463872 0.50704665]\n"
          ],
          "name": "stdout"
        }
      ]
    },
    {
      "cell_type": "code",
      "metadata": {
        "colab": {
          "base_uri": "https://localhost:8080/"
        },
        "id": "2nlJZK3hOn1B",
        "outputId": "cd1f61c5-02ae-4925-d9eb-7ba8c6f457f9"
      },
      "source": [
        "# Pandas Series - contains labels\n",
        "first_series = pd.Series(np_array) # class: Series class\n",
        "print(type(first_series))\n",
        "\n",
        "print(first_series)"
      ],
      "execution_count": 3,
      "outputs": [
        {
          "output_type": "stream",
          "text": [
            "<class 'pandas.core.series.Series'>\n",
            "0    0.907454\n",
            "1    0.654639\n",
            "2    0.507047\n",
            "dtype: float64\n"
          ],
          "name": "stdout"
        }
      ]
    },
    {
      "cell_type": "code",
      "metadata": {
        "colab": {
          "base_uri": "https://localhost:8080/"
        },
        "id": "uDBCzm1BOqXS",
        "outputId": "fe931de6-beae-493c-b334-ad47018ccc93"
      },
      "source": [
        "# Pandas Series - custom labels\n",
        "second_series = pd.Series(np_array, index = [\"First\", \"Second\", \"Third\"])\n",
        "print(type(second_series))\n",
        "\n",
        "print(second_series)\n",
        "print('\\n', second_series[1]) # apply index\n",
        "print('\\n', second_series[\"Second\"]) # apply custom index\n",
        "print('\\n', second_series.index)"
      ],
      "execution_count": 19,
      "outputs": [
        {
          "output_type": "stream",
          "text": [
            "<class 'pandas.core.series.Series'>\n",
            "First     0.907454\n",
            "Second    0.654639\n",
            "Third     0.507047\n",
            "dtype: float64\n",
            "\n",
            " 0.6546387212900521\n",
            "\n",
            " 0.6546387212900521\n",
            "\n",
            " Index(['First', 'Second', 'Third'], dtype='object')\n"
          ],
          "name": "stdout"
        }
      ]
    },
    {
      "cell_type": "code",
      "metadata": {
        "colab": {
          "base_uri": "https://localhost:8080/"
        },
        "id": "d1lqclgEOqoQ",
        "outputId": "bdeab046-caf9-4c9c-e590-f1fabd5b0cab"
      },
      "source": [
        "# 2D Array\n",
        "np_2d_array = np.random.rand(3, 2)\n",
        "print(type(np_2d_array))\n",
        "\n",
        "print(np_2d_array)\n",
        "print(np_2d_array[2, 1])"
      ],
      "execution_count": 5,
      "outputs": [
        {
          "output_type": "stream",
          "text": [
            "<class 'numpy.ndarray'>\n",
            "[[0.81115712 0.06161662]\n",
            " [0.36099089 0.47058032]\n",
            " [0.89339633 0.13008232]]\n",
            "0.13008232322940483\n"
          ],
          "name": "stdout"
        }
      ]
    },
    {
      "cell_type": "code",
      "metadata": {
        "colab": {
          "base_uri": "https://localhost:8080/"
        },
        "id": "3O5WghyqOU05",
        "outputId": "c2b0c4be-d2fb-4557-acc9-8ccf11c7b890"
      },
      "source": [
        "# Pandas DataFrame - along with row and col index/label\n",
        "first_df = pd.DataFrame(np_2d_array) # class: DataFrame\n",
        "print(type(first_df))\n",
        "\n",
        "print(first_df) # prints values with index\n",
        "# print(first_df[2,1]) # it fails :) - KeyError: (2, 1)\n",
        "print(first_df.columns)\n",
        "first_df.columns = [\"First\", \"Second\"]\n",
        "\n",
        "print(first_df)\n",
        "print(first_df[\"Second\"]) # It returns a series now.\n",
        "# print(first_df[1, \"second\"]) # it fails :) - KeyError: (1, 'second')\n",
        "print(first_df['Second'].values[1]) # the values gives a numpy array."
      ],
      "execution_count": 6,
      "outputs": [
        {
          "output_type": "stream",
          "text": [
            "<class 'pandas.core.frame.DataFrame'>\n",
            "          0         1\n",
            "0  0.811157  0.061617\n",
            "1  0.360991  0.470580\n",
            "2  0.893396  0.130082\n",
            "RangeIndex(start=0, stop=2, step=1)\n",
            "      First    Second\n",
            "0  0.811157  0.061617\n",
            "1  0.360991  0.470580\n",
            "2  0.893396  0.130082\n",
            "0    0.061617\n",
            "1    0.470580\n",
            "2    0.130082\n",
            "Name: Second, dtype: float64\n",
            "0.4705803181130338\n"
          ],
          "name": "stdout"
        }
      ]
    },
    {
      "cell_type": "code",
      "metadata": {
        "colab": {
          "base_uri": "https://localhost:8080/"
        },
        "id": "neR57UuJOyZQ",
        "outputId": "beecd0b4-e823-46dc-b30e-860d671d8bfb"
      },
      "source": [
        "# iat, at, iloc, loc\n",
        "print('2nd row and 2nd col: ', first_df.iat[1, 1])\n",
        "print('2nd row and 2nd col: ', first_df.at[1, \"Second\"])\n",
        "\n",
        "print('\\nColumns:')\n",
        "print(first_df.iloc[1])\n",
        "\n",
        "print('\\n')\n",
        "print('2nd row and 2nd col: ', first_df.iloc[1, 1])\n",
        "print('2nd row and 2nd col: ', first_df.iloc[1][\"Second\"])\n",
        "\n",
        "# loc(row index/range/Series), col index/range/Series/ColumnName) - by labels(Label is part of DataFrame, first column but it does not include in positon count)\n",
        "# iloc(row index/range/Series, col index/range/Series/ColumnName) - by position(position starts with 0)\n",
        "\n",
        "#index: 2\n",
        "#range: [start:n] - n is number of data points.\n",
        "#WildCard: [:] - it gives all rows/cols.\n",
        "#Series: [3, 6, 8, 103]"
      ],
      "execution_count": 15,
      "outputs": [
        {
          "output_type": "stream",
          "text": [
            "2nd row and 2nd col:  0.4705803181130338\n",
            "2nd row and 2nd col:  0.4705803181130338\n",
            "\n",
            "Columns:\n",
            "First     0.360991\n",
            "Second    0.470580\n",
            "Name: 1, dtype: float64\n",
            "\n",
            "\n",
            "2nd row and 2nd col:  0.4705803181130338\n",
            "2nd row and 2nd col:  0.4705803181130338\n"
          ],
          "name": "stdout"
        }
      ]
    },
    {
      "cell_type": "code",
      "metadata": {
        "colab": {
          "base_uri": "https://localhost:8080/"
        },
        "id": "JKLl-sn0MmLF",
        "outputId": "61774442-fc23-43b4-cae1-c657b05d8d85"
      },
      "source": [
        "records = [(\"Espresso\", \"5$\"),\n",
        "           (\"Flat White\", \"10$\")]\n",
        "\n",
        "df2 = pd.DataFrame.from_records(records)\n",
        "print(df2)"
      ],
      "execution_count": 8,
      "outputs": [
        {
          "output_type": "stream",
          "text": [
            "            0    1\n",
            "0    Espresso   5$\n",
            "1  Flat White  10$\n"
          ],
          "name": "stdout"
        }
      ]
    },
    {
      "cell_type": "code",
      "metadata": {
        "colab": {
          "base_uri": "https://localhost:8080/"
        },
        "id": "DGUKjFp8NH6w",
        "outputId": "1d595dfd-a8f3-4a93-fb22-5a2812a8b0c3"
      },
      "source": [
        "df3 = pd.DataFrame.from_records(records, columns=[\"Coffee\", \"Price\"])\n",
        "print(df3)"
      ],
      "execution_count": 9,
      "outputs": [
        {
          "output_type": "stream",
          "text": [
            "       Coffee Price\n",
            "0    Espresso    5$\n",
            "1  Flat White   10$\n"
          ],
          "name": "stdout"
        }
      ]
    }
  ]
}