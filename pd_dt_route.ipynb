{
  "nbformat": 4,
  "nbformat_minor": 0,
  "metadata": {
    "colab": {
      "name": "pd_dt_route.ipynb",
      "provenance": [],
      "authorship_tag": "ABX9TyMrvVuk1YoBxF9expO6crTd",
      "include_colab_link": true
    },
    "kernelspec": {
      "name": "python3",
      "display_name": "Python 3"
    },
    "language_info": {
      "name": "python"
    }
  },
  "cells": [
    {
      "cell_type": "markdown",
      "metadata": {
        "id": "view-in-github",
        "colab_type": "text"
      },
      "source": [
        "<a href=\"https://colab.research.google.com/github/jugalpanchal/py-pilgrim/blob/main/pd_dt_route.ipynb\" target=\"_parent\"><img src=\"https://colab.research.google.com/assets/colab-badge.svg\" alt=\"Open In Colab\"/></a>"
      ]
    },
    {
      "cell_type": "code",
      "metadata": {
        "id": "8h6uzC5-s5c-"
      },
      "source": [
        "import numpy as np\n",
        "import pandas as pd"
      ],
      "execution_count": 47,
      "outputs": []
    },
    {
      "cell_type": "markdown",
      "metadata": {
        "id": "tYrbC3UZolLN"
      },
      "source": [
        "### 1D Array"
      ]
    },
    {
      "cell_type": "code",
      "metadata": {
        "colab": {
          "base_uri": "https://localhost:8080/"
        },
        "id": "PSQ3ZfyxOkvc",
        "outputId": "e2b9ecc8-31d8-4e50-9954-8c8f419ca914"
      },
      "source": [
        "# 1D Array\n",
        "np_array = np.random.rand(3) # type: float64\n",
        "print(type(np_array))\n",
        "\n",
        "print(np_array)"
      ],
      "execution_count": 2,
      "outputs": [
        {
          "output_type": "stream",
          "text": [
            "<class 'numpy.ndarray'>\n",
            "[0.89666508 0.3929426  0.01574883]\n"
          ],
          "name": "stdout"
        }
      ]
    },
    {
      "cell_type": "markdown",
      "metadata": {
        "id": "N3nY0zEWon_x"
      },
      "source": [
        "### Series"
      ]
    },
    {
      "cell_type": "code",
      "metadata": {
        "colab": {
          "base_uri": "https://localhost:8080/"
        },
        "id": "2nlJZK3hOn1B",
        "outputId": "6ff5a90c-4909-4025-edf4-f3bb1ef2a295"
      },
      "source": [
        "# Pandas Series - contains labels\n",
        "first_series = pd.Series(np_array) # class: Series class\n",
        "print(type(first_series))\n",
        "\n",
        "print(first_series)"
      ],
      "execution_count": 3,
      "outputs": [
        {
          "output_type": "stream",
          "text": [
            "<class 'pandas.core.series.Series'>\n",
            "0    0.896665\n",
            "1    0.392943\n",
            "2    0.015749\n",
            "dtype: float64\n"
          ],
          "name": "stdout"
        }
      ]
    },
    {
      "cell_type": "code",
      "metadata": {
        "colab": {
          "base_uri": "https://localhost:8080/"
        },
        "id": "uDBCzm1BOqXS",
        "outputId": "973cbea2-cbd4-4c47-aac4-ceeb15106607"
      },
      "source": [
        "# Pandas Series - custom labels\n",
        "second_series = pd.Series(np_array, index = [\"First\", \"Second\", \"Third\"])\n",
        "print(type(second_series))\n",
        "\n",
        "print(second_series)\n",
        "print('\\n', second_series[1]) # apply index\n",
        "print('\\n', second_series[\"Second\"]) # apply custom index\n",
        "print('\\n', second_series.index)"
      ],
      "execution_count": 4,
      "outputs": [
        {
          "output_type": "stream",
          "text": [
            "<class 'pandas.core.series.Series'>\n",
            "First     0.896665\n",
            "Second    0.392943\n",
            "Third     0.015749\n",
            "dtype: float64\n",
            "\n",
            " 0.3929426032295781\n",
            "\n",
            " 0.3929426032295781\n",
            "\n",
            " Index(['First', 'Second', 'Third'], dtype='object')\n"
          ],
          "name": "stdout"
        }
      ]
    },
    {
      "cell_type": "markdown",
      "metadata": {
        "id": "_6ObUdUqorNF"
      },
      "source": [
        "### 2D Array"
      ]
    },
    {
      "cell_type": "code",
      "metadata": {
        "colab": {
          "base_uri": "https://localhost:8080/"
        },
        "id": "d1lqclgEOqoQ",
        "outputId": "8819d579-1b57-478a-b0d6-5808aa19adf3"
      },
      "source": [
        "# 2D Array\n",
        "np_2d_array = np.random.rand(3, 2)\n",
        "print(type(np_2d_array))\n",
        "\n",
        "print(np_2d_array)\n",
        "print(np_2d_array[2, 1])"
      ],
      "execution_count": 5,
      "outputs": [
        {
          "output_type": "stream",
          "text": [
            "<class 'numpy.ndarray'>\n",
            "[[0.7627858  0.4968698 ]\n",
            " [0.0304669  0.1558961 ]\n",
            " [0.67755936 0.60951667]]\n",
            "0.6095166741349233\n"
          ],
          "name": "stdout"
        }
      ]
    },
    {
      "cell_type": "code",
      "metadata": {
        "colab": {
          "base_uri": "https://localhost:8080/"
        },
        "id": "3O5WghyqOU05",
        "outputId": "6040847b-6883-4bb3-8aa8-3425fc297f50"
      },
      "source": [
        "# Pandas DataFrame - along with row and col index/label\n",
        "first_df = pd.DataFrame(np_2d_array) # class: DataFrame\n",
        "print(type(first_df))\n",
        "\n",
        "print(first_df) # prints values with index\n",
        "# print(first_df[2,1]) # it fails :) - KeyError: (2, 1)\n",
        "print(first_df.columns)\n",
        "first_df.columns = [\"First\", \"Second\"]\n",
        "\n",
        "print(first_df)\n",
        "print(first_df[\"Second\"]) # It returns a series now.\n",
        "# print(first_df[1, \"second\"]) # it fails :) - KeyError: (1, 'second')\n",
        "print(first_df['Second'].values[1]) # the values gives a numpy array."
      ],
      "execution_count": 6,
      "outputs": [
        {
          "output_type": "stream",
          "text": [
            "<class 'pandas.core.frame.DataFrame'>\n",
            "          0         1\n",
            "0  0.762786  0.496870\n",
            "1  0.030467  0.155896\n",
            "2  0.677559  0.609517\n",
            "RangeIndex(start=0, stop=2, step=1)\n",
            "      First    Second\n",
            "0  0.762786  0.496870\n",
            "1  0.030467  0.155896\n",
            "2  0.677559  0.609517\n",
            "0    0.496870\n",
            "1    0.155896\n",
            "2    0.609517\n",
            "Name: Second, dtype: float64\n",
            "0.15589610281825028\n"
          ],
          "name": "stdout"
        }
      ]
    },
    {
      "cell_type": "markdown",
      "metadata": {
        "id": "8iHANze3ov-x"
      },
      "source": [
        "### Indexing: iat, at, iloc, loc"
      ]
    },
    {
      "cell_type": "code",
      "metadata": {
        "colab": {
          "base_uri": "https://localhost:8080/"
        },
        "id": "neR57UuJOyZQ",
        "outputId": "7975ca36-3ca4-41d3-c654-f70480d6d9e4"
      },
      "source": [
        "# iat, at, iloc, loc\n",
        "print('2nd row and 2nd col: ', first_df.iat[1, 1])\n",
        "print('2nd row and 2nd col: ', first_df.at[1, \"Second\"])\n",
        "\n",
        "print('\\nColumns:')\n",
        "print(first_df.iloc[1])\n",
        "\n",
        "print('\\n')\n",
        "print('2nd row and 2nd col: ', first_df.iloc[1, 1])\n",
        "print('2nd row and 2nd col: ', first_df.iloc[1][\"Second\"])\n",
        "\n",
        "# loc(row index/range/Series), col index/range/Series/ColumnName) - by labels(Label is part of DataFrame, first column but it does not include in positon count)\n",
        "# iloc(row index/range/Series, col index/range/Series/ColumnName) - by position(position starts with 0)\n",
        "\n",
        "#index: 2\n",
        "#range: [start:n] - n is number of data points.\n",
        "#WildCard: [:] - it gives all rows/cols.\n",
        "#Series: [3, 6, 8, 103]"
      ],
      "execution_count": 7,
      "outputs": [
        {
          "output_type": "stream",
          "text": [
            "2nd row and 2nd col:  0.15589610281825028\n",
            "2nd row and 2nd col:  0.15589610281825028\n",
            "\n",
            "Columns:\n",
            "First     0.030467\n",
            "Second    0.155896\n",
            "Name: 1, dtype: float64\n",
            "\n",
            "\n",
            "2nd row and 2nd col:  0.15589610281825028\n",
            "2nd row and 2nd col:  0.15589610281825028\n"
          ],
          "name": "stdout"
        }
      ]
    },
    {
      "cell_type": "markdown",
      "metadata": {
        "id": "Fp6J7X6wnZP8"
      },
      "source": [
        "### Create a dataframe"
      ]
    },
    {
      "cell_type": "code",
      "metadata": {
        "colab": {
          "base_uri": "https://localhost:8080/"
        },
        "id": "JKLl-sn0MmLF",
        "outputId": "b848631d-a954-424a-af67-44f5173e7d9c"
      },
      "source": [
        "records = [(\"Espresso\", 5, 4),\n",
        "           (\"Brew\", 4, 6),\n",
        "           (\"Flat White\", 3, 7)]\n",
        "\n",
        "df2 = pd.DataFrame.from_records(records)\n",
        "print(df2)\n",
        "print('\\n')\n",
        "\n",
        "df3 = pd.DataFrame.from_records(records, columns=[\"Coffee\", \"Price\", \"Qty\"]) # Add columns\n",
        "print(df3)"
      ],
      "execution_count": 26,
      "outputs": [
        {
          "output_type": "stream",
          "text": [
            "            0  1  2\n",
            "0    Espresso  5  4\n",
            "1        Brew  4  6\n",
            "2  Flat White  3  7\n",
            "\n",
            "\n",
            "       Coffee  Price  Qty\n",
            "0    Espresso      5    4\n",
            "1        Brew      4    6\n",
            "2  Flat White      3    7\n"
          ],
          "name": "stdout"
        }
      ]
    },
    {
      "cell_type": "markdown",
      "metadata": {
        "id": "zfT5I3sLtDlx"
      },
      "source": [
        "### Filter Columns"
      ]
    },
    {
      "cell_type": "code",
      "metadata": {
        "id": "HRBUBjcCtVMA",
        "outputId": "620132c4-ea70-4de2-dbed-11d986b42d5a",
        "colab": {
          "base_uri": "https://localhost:8080/",
          "height": 284
        }
      },
      "source": [
        "print(df3['Coffee'])\n",
        "print('\\n')\n",
        "\n",
        "print(df3[['Coffee','Qty']])\n",
        "print('\\n')\n",
        "\n",
        "df3.loc[df3['Coffee'] == 'Brew']"
      ],
      "execution_count": 51,
      "outputs": [
        {
          "output_type": "stream",
          "text": [
            "0      Espresso\n",
            "1          Brew\n",
            "2    Flat White\n",
            "Name: Coffee, dtype: object\n",
            "\n",
            "\n",
            "       Coffee  Qty\n",
            "0    Espresso    4\n",
            "1        Brew    6\n",
            "2  Flat White    7\n",
            "\n",
            "\n"
          ],
          "name": "stdout"
        },
        {
          "output_type": "execute_result",
          "data": {
            "text/html": [
              "<div>\n",
              "<style scoped>\n",
              "    .dataframe tbody tr th:only-of-type {\n",
              "        vertical-align: middle;\n",
              "    }\n",
              "\n",
              "    .dataframe tbody tr th {\n",
              "        vertical-align: top;\n",
              "    }\n",
              "\n",
              "    .dataframe thead th {\n",
              "        text-align: right;\n",
              "    }\n",
              "</style>\n",
              "<table border=\"1\" class=\"dataframe\">\n",
              "  <thead>\n",
              "    <tr style=\"text-align: right;\">\n",
              "      <th></th>\n",
              "      <th>Coffee</th>\n",
              "      <th>Price</th>\n",
              "      <th>Qty</th>\n",
              "      <th>Total</th>\n",
              "    </tr>\n",
              "  </thead>\n",
              "  <tbody>\n",
              "    <tr>\n",
              "      <th>1</th>\n",
              "      <td>Brew</td>\n",
              "      <td>4</td>\n",
              "      <td>6</td>\n",
              "      <td>24</td>\n",
              "    </tr>\n",
              "  </tbody>\n",
              "</table>\n",
              "</div>"
            ],
            "text/plain": [
              "  Coffee  Price  Qty  Total\n",
              "1   Brew      4    6     24"
            ]
          },
          "metadata": {
            "tags": []
          },
          "execution_count": 51
        }
      ]
    },
    {
      "cell_type": "markdown",
      "metadata": {
        "id": "96u6jKewpEms"
      },
      "source": [
        "### New Column"
      ]
    },
    {
      "cell_type": "code",
      "metadata": {
        "colab": {
          "base_uri": "https://localhost:8080/"
        },
        "id": "DGUKjFp8NH6w",
        "outputId": "d4d902b0-9650-447d-b12c-851058fc8eba"
      },
      "source": [
        "total = df3[\"Price\"] * df3[\"Qty\"] # if value is not numeric then we can covert it if required.\n",
        "df3 = df3.assign(Total = total) # create a new column\n",
        "print(df3)"
      ],
      "execution_count": 27,
      "outputs": [
        {
          "output_type": "stream",
          "text": [
            "       Coffee  Price  Qty  Total\n",
            "0    Espresso      5    4     20\n",
            "1        Brew      4    6     24\n",
            "2  Flat White      3    7     21\n"
          ],
          "name": "stdout"
        }
      ]
    },
    {
      "cell_type": "markdown",
      "metadata": {
        "id": "TVXRfa7orXID"
      },
      "source": [
        "### Meth Methods"
      ]
    },
    {
      "cell_type": "code",
      "metadata": {
        "id": "GVwUdmtwrXUq",
        "outputId": "fa20a549-90bf-4d90-def4-ef5df4d64aee",
        "colab": {
          "base_uri": "https://localhost:8080/"
        }
      },
      "source": [
        "print('Max Value:            ', df3['Total'].max())\n",
        "\n",
        "print('Max Value Label/Index:', df3['Total'].idxmax()) # It can be used further to help to get a entire row.\n"
      ],
      "execution_count": 33,
      "outputs": [
        {
          "output_type": "stream",
          "text": [
            "Max Value:             24\n",
            "Max Value Label/Index: 1\n"
          ],
          "name": "stdout"
        }
      ]
    },
    {
      "cell_type": "markdown",
      "metadata": {
        "id": "rj7lnqf2lpYa"
      },
      "source": [
        "### Replace anomalies to NaN\n",
        "\n"
      ]
    },
    {
      "cell_type": "code",
      "metadata": {
        "id": "c-ea5qQ0l09c",
        "outputId": "76810b8f-228f-4401-ce4e-c9a7715e63ac",
        "colab": {
          "base_uri": "https://localhost:8080/"
        }
      },
      "source": [
        "records = [(\"Espresso\", \"5\"),\n",
        "           (\"Cappuccino\", \"5A\"),\n",
        "           (\"Americano\", \"NaN\"),\n",
        "           (\"Brew\", \"5D\"),\n",
        "           (\"Flat White\", \"10\")]\n",
        "df4 = pd.DataFrame.from_records(records, columns=[\"Coffee\", \"Price\"])\n",
        "print(df4)\n",
        "print('\\n')\n",
        "\n",
        "df4.loc[:, 'Price'] = pd.to_numeric(df4['Price'], errors='coerce') # replace no valid data to NaN and convert str to numeric\n",
        "print(df4)"
      ],
      "execution_count": 10,
      "outputs": [
        {
          "output_type": "stream",
          "text": [
            "       Coffee Price\n",
            "0    Espresso     5\n",
            "1  Cappuccino    5A\n",
            "2   Americano   NaN\n",
            "3        Brew    5D\n",
            "4  Flat White    10\n",
            "\n",
            "\n",
            "       Coffee  Price\n",
            "0    Espresso    5.0\n",
            "1  Cappuccino    NaN\n",
            "2   Americano    NaN\n",
            "3        Brew    NaN\n",
            "4  Flat White   10.0\n"
          ],
          "name": "stdout"
        }
      ]
    }
  ]
}